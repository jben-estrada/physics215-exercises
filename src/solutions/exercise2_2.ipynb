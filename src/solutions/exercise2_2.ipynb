{
 "cells": [
  {
   "cell_type": "markdown",
   "metadata": {},
   "source": [
    "# Chapter 2 - Exercise 1\n",
    "#### Author: *John Benedick Estrada*\n",
    "---\n",
    "**Exercise:** In Chapter 2 we analyzed the performance of `reachable_nodes` and classified it in $O(n + m)$, where $n$ is the number of nodes and $m$ is the number of edges.  Continuing the\n",
    "analysis, what is the order of growth for `is_connected`?\n",
    "\n",
    "\n",
    "```\n",
    "def is_connected(G):\n",
    "    start = list(G)[0]\n",
    "    reachable = reachable_nodes(G, start)\n",
    "    return len(reachable) == len(G) \n",
    "\n",
    "```"
   ]
  },
  {
   "cell_type": "markdown",
   "metadata": {},
   "source": [
    "`start = list(G)[0]`\n",
    "\n",
    "The first line of code in `is_connected` attempts to cast the `Graph` object `G` into a `list`. This results to According to the [NetworkX documentation](https://networkx.github.io/documentation/stable/reference/introduction.html#networkx-basics), `Graph` objects are implemented with dictionary of dictionaries with the outer dictionary keyed by nodes. So we can speculate that `list(G)` "
   ]
  },
  {
   "cell_type": "code",
   "execution_count": 1,
   "metadata": {},
   "outputs": [],
   "source": [
    "import networkx as nx"
   ]
  },
  {
   "cell_type": "code",
   "execution_count": 5,
   "metadata": {
    "tags": []
   },
   "outputs": [
    {
     "name": "stdout",
     "output_type": "stream",
     "text": [
      "<class 'networkx.classes.graph.Graph'>\n"
     ]
    }
   ],
   "source": [
    "print(type(nx.Graph()))"
   ]
  }
 ],
 "metadata": {
  "kernelspec": {
   "display_name": "physics215",
   "language": "python",
   "name": "physics215"
  },
  "language_info": {
   "codemirror_mode": {
    "name": "ipython",
    "version": 3
   },
   "file_extension": ".py",
   "mimetype": "text/x-python",
   "name": "python",
   "nbconvert_exporter": "python",
   "pygments_lexer": "ipython3",
   "version": "3.8.2"
  }
 },
 "nbformat": 4,
 "nbformat_minor": 4
}
