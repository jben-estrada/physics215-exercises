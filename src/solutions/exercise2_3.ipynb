{
 "cells": [
  {
   "cell_type": "markdown",
   "metadata": {},
   "source": [
    "# Chapter 2 - Exercise 3\n",
    "#### Author: *John Benedick Estrada*\n",
    "---\n",
    "**Exercise:** In my implementation of `reachable_nodes`, you might be bothered by the apparent inefficiency of adding *all* neighbors to the stack without checking whether they are already in `seen`.  Write a version of this function that checks the neighbors before adding them to the stack.  Does this \"optimization\" change the order of growth?  Does it make the function faster?\n"
   ]
  },
  {
   "cell_type": "code",
   "execution_count": 1,
   "metadata": {},
   "outputs": [],
   "source": [
    "import networkx as nx\n",
    "import numpy as np"
   ]
  },
  {
   "cell_type": "markdown",
   "metadata": {},
   "source": [
    "##### Function definitions from the Think Complexity 2nd Edition: Chapter 2\n",
    "Source: https://github.com/AllenDowney/ThinkComplexity2/blob/master/notebooks/chap02.ipynb"
   ]
  },
  {
   "cell_type": "code",
   "execution_count": 2,
   "metadata": {},
   "outputs": [],
   "source": [
    "def all_pairs(nodes):\n",
    "    for i, u in enumerate(nodes):\n",
    "        for j, v in enumerate(nodes):\n",
    "            if i < j:\n",
    "                yield u, v\n",
    "\n",
    "\n",
    "def make_complete_graph(n):\n",
    "    G = nx.Graph()\n",
    "    nodes = range(n)\n",
    "    G.add_nodes_from(nodes)\n",
    "    G.add_edges_from(all_pairs(nodes))\n",
    "    return G\n",
    "\n",
    "\n",
    "# NOTE: Original implementation of `reachable_nodes`.\n",
    "def reachable_nodes(G, start):\n",
    "    seen = set()\n",
    "    stack = [start]\n",
    "    while stack:\n",
    "        node = stack.pop()\n",
    "        if node not in seen:\n",
    "            seen.add(node)\n",
    "            stack.extend(G.neighbors(node))\n",
    "    return seen"
   ]
  },
  {
   "cell_type": "markdown",
   "metadata": {},
   "source": [
    "#### My implementations of `reachable_nodes` with neighbor precheck"
   ]
  },
  {
   "cell_type": "code",
   "execution_count": 3,
   "metadata": {},
   "outputs": [],
   "source": [
    "# 1: Implementation following the instruction of this exercise.\n",
    "def reachable_nodes_precheck(G, start):\n",
    "    seen = set()\n",
    "    stack = [start]\n",
    "    while stack:\n",
    "        node = stack.pop()\n",
    "        if node not in seen:\n",
    "            seen.add(node)\n",
    "            for neighbor in G.neighbors(node):\n",
    "                if neighbor not in seen:\n",
    "                    seen.add(neighbor)\n",
    "    return seen"
   ]
  },
  {
   "cell_type": "markdown",
   "metadata": {},
   "source": [
    "\n",
    "#### Small test for `reachable_nodes_precheck`"
   ]
  },
  {
   "cell_type": "code",
   "execution_count": 4,
   "metadata": {},
   "outputs": [],
   "source": [
    "G_1 = make_complete_graph(1)\n",
    "G_2 = make_complete_graph(10)\n",
    "G_3 = make_complete_graph(100)\n",
    "\n",
    "assert reachable_nodes(G_1, 0) == reachable_nodes_precheck(G_1, 0)\n",
    "assert reachable_nodes(G_2, 0) == reachable_nodes_precheck(G_2, 0)\n",
    "assert reachable_nodes(G_3, 0) == reachable_nodes_precheck(G_3, 0)\n",
    "\n",
    "# To prevent polluting the global scope.\n",
    "del G_1, G_2, G_3"
   ]
  },
  {
   "cell_type": "markdown",
   "metadata": {},
   "source": [
    "#### Speed comparison between `reachable_nodes` and `reachable_nodes_precheck`"
   ]
  },
  {
   "cell_type": "code",
   "execution_count": 5,
   "metadata": {},
   "outputs": [],
   "source": [
    "def embolden_str(string):\n",
    "    return f\"{chr(27)}[1;32m{string}{chr(27)}[0m\""
   ]
  },
  {
   "cell_type": "code",
   "execution_count": 6,
   "metadata": {
    "tags": []
   },
   "outputs": [
    {
     "name": "stdout",
     "output_type": "stream",
     "text": [
      "Average time \u001b[1;32m`reachable_nodes`\u001b[0m: 620 µs ± 20.9 µs per loop (mean ± std. dev. of 7 runs, 1000 loops each)\n",
      "Average time \u001b[1;32m`reachable_nodes_precheck`\u001b[0m: 8.75 µs ± 788 ns per loop (mean ± std. dev. of 7 runs, 100000 loops each)\n"
     ]
    }
   ],
   "source": [
    "\n",
    "complete = make_complete_graph(100)\n",
    "\n",
    "print(f\"Average time {embolden_str('`reachable_nodes`')}: \", end=\"\")\n",
    "%timeit len(reachable_nodes(complete, 0))\n",
    "print(f\"Average time {embolden_str('`reachable_nodes_precheck`')}: \", end=\"\")\n",
    "%timeit len(reachable_nodes_precheck(complete, 0))"
   ]
  }
 ],
 "metadata": {
  "kernelspec": {
   "display_name": "Python 3",
   "language": "python",
   "name": "python3"
  },
  "language_info": {
   "codemirror_mode": {
    "name": "ipython",
    "version": 3
   },
   "file_extension": ".py",
   "mimetype": "text/x-python",
   "name": "python",
   "nbconvert_exporter": "python",
   "pygments_lexer": "ipython3",
   "version": "3.8.5"
  }
 },
 "nbformat": 4,
 "nbformat_minor": 4
}
