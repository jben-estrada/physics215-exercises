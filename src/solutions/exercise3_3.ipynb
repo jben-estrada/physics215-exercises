{
 "cells": [
  {
   "cell_type": "markdown",
   "metadata": {},
   "source": [
    "# Chapter 3 - Exercise 3\n",
    "#### Author: *John Benedick Estrada*\n",
    "---\n",
    "**Exercise:** The following implementation of a BFS contains two performance errors.  What are\n",
    "they?  What is the actual order of growth for this algorithm?\n",
    "\n",
    "```\n",
    "def bfs(G, start):\n",
    "    \"\"\"Breadth-first search on a graph, starting at top_node.\"\"\"\n",
    "    visited = set()\n",
    "    queue = [start]\n",
    "    while len(queue):\n",
    "        curr_node = queue.pop(0)    # Dequeue\n",
    "        visited.add(curr_node)\n",
    "\n",
    "        # Enqueue non-visited and non-enqueued children\n",
    "        queue.extend(c for c in G[curr_node]\n",
    "                     if c not in visited and c not in queue)\n",
    "    return visited\n",
    "```"
   ]
  },
  {
   "cell_type": "markdown",
   "metadata": {},
   "source": [
    "##### *Solution:*\n",
    "Below are the reasons why I think `bfs` is not optimized:\n",
    "1. The object `queue` is not of `collections.deque` type but of the `list` type. So its `pop` method may not execute in constant time. The order of growth of this function call alone might be $O(n)$ since `pop` may have to loop through the `list` all the way to the end.\n",
    "2. The condition `c not in queue` in the list comprehension may not execute in\n",
    "constant time as well. Since `list`s are not expected to be ordered in a particular way, the most general way of searching through a `list` object is by linear search which has an worst-case order of $O(n)$.\n",
    "3. The list comprehension within the `while` construct may be redundant."
   ]
  }
 ],
 "metadata": {
  "kernelspec": {
   "display_name": "physics215",
   "language": "python",
   "name": "physics215"
  },
  "language_info": {
   "codemirror_mode": {
    "name": "ipython",
    "version": 3
   },
   "file_extension": ".py",
   "mimetype": "text/x-python",
   "name": "python",
   "nbconvert_exporter": "python",
   "pygments_lexer": "ipython3",
   "version": "3.8.5"
  }
 },
 "nbformat": 4,
 "nbformat_minor": 4
}
