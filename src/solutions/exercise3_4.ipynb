{
 "cells": [
  {
   "cell_type": "markdown",
   "metadata": {},
   "source": [
    "# Chapter 3 - Exercise 4\n",
    "#### Author: *John Benedick Estrada*\n",
    "---\n",
    "**Exercise:** In the book, I claimed that Dijkstra's algorithm does not work unless it uses BFS.  Write a version of `shortest_path_dijkstra` that uses DFS and test it on a few examples to see what goes wrong."
   ]
  },
  {
   "cell_type": "code",
   "execution_count": 1,
   "metadata": {},
   "outputs": [],
   "source": [
    "import networkx as nx\n",
    "from collections import deque\n",
    "from typing import Hashable"
   ]
  },
  {
   "cell_type": "markdown",
   "metadata": {},
   "source": [
    "##### Functions directly lifted from the book"
   ]
  },
  {
   "cell_type": "code",
   "execution_count": 2,
   "metadata": {},
   "outputs": [],
   "source": [
    "def adjacent_edges(nodes, halfk):\n",
    "    n = len(nodes)\n",
    "    for i, u in enumerate(nodes):\n",
    "        for j in range(i+1, i+halfk+1):\n",
    "            v = nodes[j % n]\n",
    "            yield u, v\n",
    "\n",
    "\n",
    "def make_ring_lattice(n, k):\n",
    "    G = nx.Graph()\n",
    "    nodes = range(n)\n",
    "    G.add_nodes_from(nodes)\n",
    "    G.add_edges_from(adjacent_edges(nodes, k//2))\n",
    "    return G\n",
    "\n",
    "\n",
    "def shortest_path_dijkstra(G, source):\n",
    "    \"\"\"Finds shortest paths from `source` to all other nodes.\n",
    "    \n",
    "    G: graph\n",
    "    source: node to start at\n",
    "    \n",
    "    returns: make from node to path length\n",
    "    \"\"\"\n",
    "    dist = {source: 0}\n",
    "    queue = deque([source])\n",
    "    while queue:\n",
    "        node = queue.popleft()\n",
    "        new_dist = dist[node] + 1\n",
    "\n",
    "        neighbors = set(G[node]).difference(dist)\n",
    "        for n in neighbors:\n",
    "            dist[n] = new_dist\n",
    "        \n",
    "        queue.extend(neighbors)\n",
    "    return dist"
   ]
  },
  {
   "cell_type": "markdown",
   "metadata": {},
   "source": [
    "##### My implementations of a DFS \"shortest path\" algorithm"
   ]
  },
  {
   "cell_type": "code",
   "execution_count": 31,
   "metadata": {},
   "outputs": [],
   "source": [
    "# Stack based variant of a DFS \"shortest path\" algorithm.\n",
    "def dfs_spa_stack(G: nx.Graph, source: Hashable):\n",
    "    dist = {source: 0}\n",
    "    stack = deque([source])\n",
    "    while stack:\n",
    "        # Get the topmost element on the stack which should be the most\n",
    "        # recently visited one.\n",
    "        node = stack[-1]\n",
    "\n",
    "        for n in G[node]:\n",
    "            # Check if `n` is already visited.\n",
    "            # If not, update `dist` and visit that node.\n",
    "            if n not in dist:\n",
    "                new_dist = dist[node] + 1\n",
    "                dist[n] = new_dist\n",
    "                stack.append(n)\n",
    "                break\n",
    "        else:\n",
    "            # If all the neighbors of the current node `node` have already been\n",
    "            # visited, backtrack until a node with at least one unvisited\n",
    "            # neighbor is reached.\n",
    "            stack.pop()\n",
    "\n",
    "    # A graph is fully visited if the stack is empty.\n",
    "    return dist\n",
    "\n",
    "\n",
    "# Recursion variant of a DFS \"shortest path\" algorithm.\n",
    "def dfs_spa_recursive(G: nx.Graph, source: Hashable):\n",
    "    dist = {source: 0}\n",
    "\n",
    "    def visit(node: Hashable):\n",
    "        for n in G[node]:\n",
    "            # Check if `n` is already visited.\n",
    "            # If not, update `dist` and visit that node.\n",
    "            if n not in dist:\n",
    "                new_dist = dist[node] + 1\n",
    "                dist[n] = new_dist\n",
    "                visit(n)\n",
    "\n",
    "    visit(source)\n",
    "    return dist"
   ]
  },
  {
   "cell_type": "markdown",
   "metadata": {},
   "source": [
    "##### Testing the implementations"
   ]
  },
  {
   "cell_type": "code",
   "execution_count": 4,
   "metadata": {},
   "outputs": [],
   "source": [
    "lattice = make_ring_lattice(100, 100)"
   ]
  },
  {
   "cell_type": "code",
   "execution_count": 32,
   "metadata": {},
   "outputs": [
    {
     "name": "stdout",
     "output_type": "stream",
     "text": [
      "Success!\n"
     ]
    }
   ],
   "source": [
    "spa_stack_result = dfs_spa_stack(lattice, 0)\n",
    "spa_recursive_result = dfs_spa_recursive(lattice, 0)\n",
    "assert spa_stack_result == spa_recursive_result\n",
    "print(\"Success!\")\n",
    "\n",
    "del spa_stack_result, spa_recursive_result"
   ]
  },
  {
   "cell_type": "markdown",
   "metadata": {},
   "source": [
    "##### Just a simple benchmark between the two implementations"
   ]
  },
  {
   "cell_type": "code",
   "execution_count": 34,
   "metadata": {},
   "outputs": [
    {
     "name": "stdout",
     "output_type": "stream",
     "text": [
      "Stack based implementation:     578 µs ± 14.7 µs per loop (mean ± std. dev. of 7 runs, 1000 loops each)\n",
      "Recursion based implementation: 373 µs ± 7.02 µs per loop (mean ± std. dev. of 7 runs, 1000 loops each)\n"
     ]
    }
   ],
   "source": [
    "print(\"Stack based implementation:     \", end=\"\")\n",
    "%timeit dfs_spa_stack(lattice, 0)\n",
    "print(\"Recursion based implementation: \", end=\"\")\n",
    "%timeit dfs_spa_recursive(lattice, 0)"
   ]
  },
  {
   "cell_type": "markdown",
   "metadata": {},
   "source": [
    "##### Test the result of the DFS \"shortest path\" algorithm"
   ]
  },
  {
   "cell_type": "code",
   "execution_count": 7,
   "metadata": {},
   "outputs": [],
   "source": [
    "def cmpr_two_spa_result(n, k):\n",
    "\n",
    "    lattice = make_ring_lattice(n, k)\n",
    "    dfs_spa_result = dfs_spa_recursive(lattice, 0)   # We use the recursive one since it is faster (in my machine at least)\n",
    "    true_spa_result = shortest_path_dijkstra(lattice, 0)\n",
    "\n",
    "    header = \"Node : DFS SPA result : True SPA result\"\n",
    "    title = f\"Lattice (n={n}, k={k})\"\n",
    "    print(f\"{title}\\n{'-'*len(header)}\\n{header}\\n{'-'*len(header)}\")\n",
    "\n",
    "    for node in lattice.nodes:\n",
    "        print(f\"{node} : {dfs_spa_result[node]} : {true_spa_result[node]}\", \n",
    "              end=\"\")\n",
    "        if (dfs_spa_result[node] == true_spa_result[node]):\n",
    "            print(\" (Correct)\")\n",
    "        else:\n",
    "            print(\" (Wrong)\")\n",
    "    print(f\"{'-'*len(header)}\\n\")"
   ]
  },
  {
   "cell_type": "code",
   "execution_count": 8,
   "metadata": {},
   "outputs": [
    {
     "name": "stdout",
     "output_type": "stream",
     "text": [
      "Lattice (n=10, k=10)\n",
      "---------------------------------------\n",
      "Node : DFS SPA result : True SPA result\n",
      "---------------------------------------\n",
      "0 : 0 : 0 (Correct)\n",
      "1 : 1 : 1 (Correct)\n",
      "2 : 2 : 1 (Wrong)\n",
      "3 : 3 : 1 (Wrong)\n",
      "4 : 4 : 1 (Wrong)\n",
      "5 : 5 : 1 (Wrong)\n",
      "6 : 6 : 1 (Wrong)\n",
      "7 : 7 : 1 (Wrong)\n",
      "8 : 8 : 1 (Wrong)\n",
      "9 : 9 : 1 (Wrong)\n",
      "---------------------------------------\n",
      "\n",
      "Lattice (n=20, k=20)\n",
      "---------------------------------------\n",
      "Node : DFS SPA result : True SPA result\n",
      "---------------------------------------\n",
      "0 : 0 : 0 (Correct)\n",
      "1 : 1 : 1 (Correct)\n",
      "2 : 2 : 1 (Wrong)\n",
      "3 : 3 : 1 (Wrong)\n",
      "4 : 4 : 1 (Wrong)\n",
      "5 : 5 : 1 (Wrong)\n",
      "6 : 6 : 1 (Wrong)\n",
      "7 : 7 : 1 (Wrong)\n",
      "8 : 8 : 1 (Wrong)\n",
      "9 : 9 : 1 (Wrong)\n",
      "10 : 10 : 1 (Wrong)\n",
      "11 : 11 : 1 (Wrong)\n",
      "12 : 12 : 1 (Wrong)\n",
      "13 : 13 : 1 (Wrong)\n",
      "14 : 14 : 1 (Wrong)\n",
      "15 : 15 : 1 (Wrong)\n",
      "16 : 16 : 1 (Wrong)\n",
      "17 : 17 : 1 (Wrong)\n",
      "18 : 18 : 1 (Wrong)\n",
      "19 : 19 : 1 (Wrong)\n",
      "---------------------------------------\n",
      "\n"
     ]
    }
   ],
   "source": [
    "cmpr_two_spa_result(10, 10)\n",
    "cmpr_two_spa_result(20, 20)"
   ]
  }
 ],
 "metadata": {
  "kernelspec": {
   "display_name": "physics215",
   "language": "python",
   "name": "physics215"
  },
  "language_info": {
   "codemirror_mode": {
    "name": "ipython",
    "version": 3
   },
   "file_extension": ".py",
   "mimetype": "text/x-python",
   "name": "python",
   "nbconvert_exporter": "python",
   "pygments_lexer": "ipython3",
   "version": "3.8.2"
  }
 },
 "nbformat": 4,
 "nbformat_minor": 4
}
