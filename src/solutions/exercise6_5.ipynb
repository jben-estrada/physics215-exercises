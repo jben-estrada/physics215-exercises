{
 "cells": [
  {
   "cell_type": "markdown",
   "metadata": {},
   "source": [
    "# Chapter 6 - Exercise 5\n",
    "### Author: *John Benedick Estrada*\n",
    "---\n",
    "**Exercise:** If you generalize the Turing machine to two dimensions, or add a read-write head to a 2-D CA, the result is a cellular automaton called a Turmite. It is named after a termite because of the way the read-write head moves, but spelled wrong as an homage to Alan Turing. The most famous Turmite is Langton’s Ant, discovered by Chris Langton in 1986. See http://thinkcomplex.com/langton.\n",
    "\n",
    "The ant is a read-write head with four states, which you can think of as facing north, south, east or west. The cells have two states, black and white. The rules are simple. During each time step, the ant checks the color of the cell it is on. If black, the ant turns to the right, changes the cell to white, and moves forward one space. If the cell is white, the ant turns left, changes the cell to black, and moves forward.\n",
    "\n",
    "Given a simple world, a simple set of rules, and only one moving part, you might expect to see simple behavior — but you should know better by now. Starting with all white cells, Langton’s ant moves in a seemingly random pattern for more than 10,000 steps before it enters a cycle with a period of 104 steps. After each cycle, the ant is translated diagonally, so it leaves a trail called the “highway”.\n",
    "\n",
    "Write an implementation of Langton’s Ant."
   ]
  },
  {
   "cell_type": "code",
   "execution_count": 1,
   "metadata": {},
   "outputs": [],
   "source": [
    "import numpy as np\n",
    "import matplotlib.pyplot as plt\n",
    "from time import sleep\n",
    "from IPython.display import clear_output\n",
    "from utils import underride\n",
    "\n",
    "from scipy.signal import correlate2d"
   ]
  },
  {
   "cell_type": "markdown",
   "metadata": {},
   "source": [
    "### Code obtained from the book"
   ]
  },
  {
   "cell_type": "code",
   "execution_count": 2,
   "metadata": {},
   "outputs": [],
   "source": [
    "\"\"\" Code example from Complexity and Computation, a book about\n",
    "exploring complexity science with Python.  Available free from\n",
    "\n",
    "http://greenteapress.com/complexity\n",
    "\n",
    "Copyright 2016 Allen Downey\n",
    "MIT License: http://opensource.org/licenses/MIT\n",
    "\"\"\"\n",
    "\n",
    "\n",
    "class Cell2D:\n",
    "    \"\"\"Parent class for 2-D cellular automata.\"\"\"\n",
    "\n",
    "    def __init__(self, n, m=None):\n",
    "        \"\"\"Initializes the attributes.\n",
    "\n",
    "        n: number of rows\n",
    "        m: number of columns\n",
    "        \"\"\"\n",
    "        m = n if m is None else m\n",
    "        self.array = np.zeros((n, m), np.uint8)\n",
    "\n",
    "    def add_cells(self, row, col, *strings):\n",
    "        \"\"\"Adds cells at the given location.\n",
    "\n",
    "        row: top row index\n",
    "        col: left col index\n",
    "        strings: list of strings of 0s and 1s\n",
    "        \"\"\"\n",
    "        for i, s in enumerate(strings):\n",
    "            self.array[row+i, col:col+len(s)] = np.array([int(b) for b in s])\n",
    "\n",
    "    def loop(self, iters=1):\n",
    "        \"\"\"Runs the given number of steps.\"\"\"\n",
    "        for i in range(iters):\n",
    "            self.step()\n",
    "\n",
    "    def draw(self, **options):\n",
    "        \"\"\"Draws the array.\n",
    "        \"\"\"\n",
    "        draw_array(self.array, **options)\n",
    "\n",
    "    def animate(self, frames, interval=None, step=None):\n",
    "        \"\"\"Animate the automaton.\n",
    "        \n",
    "        frames: number of frames to draw\n",
    "        interval: time between frames in seconds\n",
    "        iters: number of steps between frames\n",
    "        \"\"\"\n",
    "        if step is None:\n",
    "            step = self.step\n",
    "            \n",
    "        plt.figure()\n",
    "        try:\n",
    "            for i in range(frames-1):\n",
    "                self.draw()\n",
    "                plt.show()\n",
    "                if interval:\n",
    "                    sleep(interval)\n",
    "                step()\n",
    "                clear_output(wait=True)\n",
    "            self.draw()\n",
    "            plt.show()\n",
    "        except KeyboardInterrupt:\n",
    "            pass\n",
    "        \n",
    "\n",
    "def draw_array(array, **options):\n",
    "    \"\"\"Draws the cells.\"\"\"\n",
    "    n, m = array.shape\n",
    "    options = underride(options,\n",
    "                        cmap='Greens',\n",
    "                        alpha=0.7,\n",
    "                        vmin=0, vmax=1, \n",
    "                        interpolation='none', \n",
    "                        origin='upper',\n",
    "                        extent=[0, m, 0, n])\n",
    "\n",
    "    plt.axis([0, m, 0, n])\n",
    "    plt.xticks([])\n",
    "    plt.yticks([])\n",
    "\n",
    "    return plt.imshow(array, **options)"
   ]
  },
  {
   "cell_type": "markdown",
   "metadata": {},
   "source": [
    "### Implementation of Langton's Ant"
   ]
  },
  {
   "cell_type": "code",
   "execution_count": 3,
   "metadata": {},
   "outputs": [],
   "source": [
    "class LangtonsAnt(Cell2D):\n",
    "    # Direction: up, right, down, left\n",
    "    # The direction array goes clockwise.\n",
    "    DIRECTIONS = \\\n",
    "        [(-1, 0), (0, 1), (1, 0), (0, -1)]\n",
    "\n",
    "    def __init__(self, n, m=None, x_pos=None, y_pos=None):\n",
    "        super().__init__(n, m)\n",
    "        \n",
    "        self.n = n\n",
    "        self.m = m\n",
    "        self.y_pos = n//2\n",
    "        self.x_pos = m//2 if m is not None else self.y_pos\n",
    "        if x_pos:\n",
    "            self.x_pos = x_pos\n",
    "        if y_pos:\n",
    "            self.y_pos = y_pos\n",
    "            \n",
    "        self.dir_idx = 0   # Index for `self.DIRECTION`.\n",
    "    \n",
    "    def step(self):\n",
    "        # Flip the state of the current cell.\n",
    "        curr_cell = self.array[self.x_pos, self.y_pos]\n",
    "        self.array[self.x_pos, self.y_pos] = ~curr_cell & 1\n",
    "    \n",
    "        # Rotate the ant according to state of the current cell.\n",
    "        if curr_cell == 0:\n",
    "            # Rotate the ant clockwise.\n",
    "            self.dir_idx = (self.dir_idx + 1) % 4\n",
    "        else:\n",
    "            # Rotate the ant counter-clockwise.\n",
    "            # NOTE: This is complement addition.\n",
    "            self.dir_idx = (self.dir_idx + 3) % 4\n",
    "\n",
    "\n",
    "        # Advance the ant.\n",
    "        drxn = self.DIRECTIONS[self.dir_idx]\n",
    "        self.x_pos = (self.x_pos + drxn[0]) % self.m\n",
    "        self.y_pos = (self.y_pos + drxn[1]) % self.n\n",
    "    \n",
    "    def draw(self, **options):\n",
    "        n, m = self.array.shape\n",
    "        options = underride(options,\n",
    "                            cmap='Greens',\n",
    "                            alpha=0.7,\n",
    "                            vmin=0, vmax=1, \n",
    "                            interpolation='none', \n",
    "                            origin='upper',\n",
    "                            extent=[0, m, 0, n])\n",
    "        \n",
    "        plt.imshow(self.array, **options)\n",
    "        ax = plt.gca()\n",
    "\n",
    "        plt.axis([0, m, 0, n])\n",
    "        plt.xticks([])\n",
    "        plt.yticks([])"
   ]
  },
  {
   "cell_type": "code",
   "execution_count": 4,
   "metadata": {},
   "outputs": [
    {
     "data": {
      "image/png": "[encoded data removed]",
      "text/plain": [
       "<Figure size 432x288 with 1 Axes>"
      ]
     },
     "metadata": {},
     "output_type": "display_data"
    }
   ],
   "source": [
    "ant = LangtonsAnt(30, 30)\n",
    "ant.animate(100, 0)"
   ]
  }
 ],
 "metadata": {
  "kernelspec": {
   "display_name": "physics215",
   "language": "python",
   "name": "physics215"
  },
  "language_info": {
   "codemirror_mode": {
    "name": "ipython",
    "version": 3
   },
   "file_extension": ".py",
   "mimetype": "text/x-python",
   "name": "python",
   "nbconvert_exporter": "python",
   "pygments_lexer": "ipython3",
   "version": "3.8.5"
  }
 },
 "nbformat": 4,
 "nbformat_minor": 4
}
