{
 "cells": [
  {
   "cell_type": "markdown",
   "metadata": {},
   "source": [
    "# Chapter 6 - Exercise 2\n",
    "### Author: *John Benedick Estrada*\n",
    "---\n",
    "**Exercise:** Many named patterns are available in portable file formats. Modify `Life.py` to parse one of these formats and initialize the grid."
   ]
  },
  {
   "cell_type": "code",
   "execution_count": 1,
   "metadata": {},
   "outputs": [],
   "source": [
    "from Cell2D import Cell2D\n",
    "from scipy.signal import correlate2d\n",
    "import numpy as np"
   ]
  },
  {
   "cell_type": "markdown",
   "metadata": {},
   "source": [
    "### Code from the book and the provided notebooks"
   ]
  },
  {
   "cell_type": "code",
   "execution_count": 2,
   "metadata": {},
   "outputs": [],
   "source": [
    "class Life(Cell2D):\n",
    "    \"\"\"Implementation of Conway's Game of Life.\"\"\"\n",
    "    kernel = np.array([[1, 1, 1],\n",
    "                       [1,10, 1],\n",
    "                       [1, 1, 1]])\n",
    "\n",
    "    table = np.zeros(20, dtype=np.uint8)\n",
    "    table[[3, 12, 13]] = 1\n",
    "\n",
    "    def step(self):\n",
    "        \"\"\"Executes one time step.\"\"\"\n",
    "        c = correlate2d(self.array, self.kernel, mode='same')\n",
    "        self.array = self.table[c]"
   ]
  },
  {
   "cell_type": "markdown",
   "metadata": {},
   "source": [
    "### Modifications on the \"Factory\" function `make_file`"
   ]
  },
  {
   "cell_type": "code",
   "execution_count": 3,
   "metadata": {},
   "outputs": [],
   "source": [
    "def parse_GoL(raw_str):\n",
    "    IN_ALIVE_CELL = \"O\"\n",
    "    IN_DEAD_CELL = \".\"\n",
    "    OUT_ALIVE_CELL = \"1\"\n",
    "    OUT_DEAD_CELL = \"0\"\n",
    "    COMMENT = \"!\"\n",
    "\n",
    "    board = []\n",
    "    str_by_lines = raw_str.split(\"\\n\")\n",
    "    \n",
    "    for line in str_by_lines:\n",
    "        board.append(\"\")\n",
    "        for char in line:\n",
    "            # Ignore white spaces.\n",
    "            if char.isspace():\n",
    "                continue\n",
    "            # Ignore the remaining characters in the line as they are commented out.\n",
    "            elif char == COMMENT:\n",
    "                if len(board[-1]) == 0:\n",
    "                    board.pop()\n",
    "                break\n",
    "            elif char == IN_ALIVE_CELL:\n",
    "                board[-1] += OUT_ALIVE_CELL\n",
    "            elif char == IN_DEAD_CELL:\n",
    "                board[-1] += OUT_DEAD_CELL\n",
    "            else:\n",
    "                raise ValueError(f\"'{char}' is an invalid character.\")\n",
    "    return board\n",
    "\n",
    "\n",
    "def make_life(n, m, row, col, str_input):\n",
    "    life = Life(n, m)\n",
    "    life.add_cells(row, col, *parse_GoL(str_input))\n",
    "    return life"
   ]
  },
  {
   "cell_type": "markdown",
   "metadata": {},
   "source": [
    "### Demo"
   ]
  },
  {
   "cell_type": "code",
   "execution_count": 4,
   "metadata": {},
   "outputs": [
    {
     "data": {
      "image/png": "[encoded data removed]",
      "text/plain": [
       "<Figure size 432x288 with 1 Axes>"
      ]
     },
     "metadata": {},
     "output_type": "display_data"
    }
   ],
   "source": [
    "pattern_35P52 = \"\"\"\n",
    "!Name: 35P52\n",
    "!With a minimum population of 35 cells it is the smallest period 52\n",
    "!oscillator.\n",
    "!www.conwaylife.com/wiki/index.php?title=35P52\n",
    "..O\n",
    "..OOO\n",
    ".....O.........OO\n",
    "....OO.........O\n",
    ".............O.O\n",
    "........OO...OO\n",
    ".......O\n",
    "......O\n",
    ".......O.O\n",
    ".......O\n",
    "\n",
    "..OO\n",
    ".O.O\n",
    ".O.........OO\n",
    "OO.........O\n",
    "............OOO\n",
    "..............O\n",
    "\"\"\"\n",
    "\n",
    "pattern_35P52_life = make_life(20, 20, 1, 1, pattern_35P52)\n",
    "pattern_35P52_life.draw()\n",
    "pattern_35P52_life.animate(100)"
   ]
  }
 ],
 "metadata": {
  "kernelspec": {
   "display_name": "physics215",
   "language": "python",
   "name": "physics215"
  },
  "language_info": {
   "codemirror_mode": {
    "name": "ipython",
    "version": 3
   },
   "file_extension": ".py",
   "mimetype": "text/x-python",
   "name": "python",
   "nbconvert_exporter": "python",
   "pygments_lexer": "ipython3",
   "version": "3.8.5"
  }
 },
 "nbformat": 4,
 "nbformat_minor": 4
}
