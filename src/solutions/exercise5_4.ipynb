{
 "cells": [
  {
   "cell_type": "markdown",
   "metadata": {},
   "source": [
    "# Chapter 5 - Exercise 4\n",
    "### Author: *John Benedick Estrada*\n",
    "---\n",
    "**Exercise:** This exercise asks you to implement and test several PRNGs.\n",
    "For testing, you will need to install \n",
    "`DieHarder`, which you can download from \n",
    "https://www.phy.duke.edu/~rgb/General/dieharder.php, or it\n",
    "might be available as a package for your operating system.\n",
    "\n",
    "1. Write a program that implements one of the linear congruential\n",
    "generators described at http://en.wikipedia.org/wiki/Linear_congruential_generator}.\n",
    "Test it using `DieHarder`.\n",
    "\n",
    "2. Read the documentation of Python's `random` module.\n",
    "What PRNG does it use?  Test it.\n",
    "\n",
    "3. Implement a Rule 30 CA with a few hundred cells,\n",
    "run it for as many time steps as you can in a reasonable amount\n",
    "of time, and output the center column as a sequence of bits.\n",
    "Test it.\n"
   ]
  },
  {
   "cell_type": "markdown",
   "metadata": {},
   "source": [
    "##### Linear Congruential Generator (LCG)"
   ]
  },
  {
   "cell_type": "code",
   "execution_count": 1,
   "metadata": {},
   "outputs": [],
   "source": [
    "def lcg(m, a, c):\n",
    "    def prepared_lcg(seed, N=10):\n",
    "        seq = seed\n",
    "        for _ in range(N):\n",
    "            seq = (a*seq + c) % m\n",
    "            yield seq\n",
    "    return prepared_lcg"
   ]
  },
  {
   "cell_type": "markdown",
   "metadata": {},
   "source": [
    "We use the following multiplier values ($m$, $a$, $c$) for LCG in `glibc`:\n",
    "- $m = 2^{31}$\n",
    "- $a = 1103515245$\n",
    "- $c = 12345$"
   ]
  },
  {
   "cell_type": "code",
   "execution_count": 2,
   "metadata": {},
   "outputs": [
    {
     "name": "stdout",
     "output_type": "stream",
     "text": [
      "`glibc` based LCG:\n",
      "    [01]: 1103527590\n",
      "    [02]: 377401575\n",
      "    [03]: 662824084\n",
      "    [04]: 1147902781\n",
      "    [05]: 2035015474\n",
      "    [06]: 368800899\n",
      "    [07]: 1508029952\n",
      "    [08]: 486256185\n",
      "    [09]: 1062517886\n",
      "    [10]: 267834847\n"
     ]
    }
   ],
   "source": [
    "glibc_lcg = lcg(m=2**31, a=1103515245, c=12345)   # NOTE: `glibc_lcg` is a generator.\n",
    "\n",
    "print(\"`glibc` based LCG:\")\n",
    "for i, rand_int in enumerate(glibc_lcg(seed=1, N=10)):\n",
    "    print(\"    [{}]: {}\".format(str(i + 1).zfill(2), rand_int))"
   ]
  }
 ],
 "metadata": {
  "kernelspec": {
   "display_name": "Python 3",
   "language": "python",
   "name": "python3"
  },
  "language_info": {
   "codemirror_mode": {
    "name": "ipython",
    "version": 3
   },
   "file_extension": ".py",
   "mimetype": "text/x-python",
   "name": "python",
   "nbconvert_exporter": "python",
   "pygments_lexer": "ipython3",
   "version": "3.8.5"
  }
 },
 "nbformat": 4,
 "nbformat_minor": 4
}
