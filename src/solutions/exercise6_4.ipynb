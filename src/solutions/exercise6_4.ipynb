{
 "cells": [
  {
   "cell_type": "markdown",
   "metadata": {},
   "source": [
    "# Chapter 6 - Exercise 4\n",
    "### Author: *John Benedick Estrada*\n",
    "---\n",
    "**Exercise:** In my implementation, the Life class is based on a parent class called `Cell2D`, and the `LifeViewer` class is based on `Cell2DViewer`. You can use these base classes to implement other 2-D cellular automatons.\n",
    "\n",
    "For example, one variation of GoL, called “Highlife”, has the same rules as GoL, plus one additional rule: a dead cell with 6 neighbors comes to life.\n",
    "\n",
    "Write a class named Highlife that inherits from Cell2D and implements this version of the rules. Also write a class named HighlifeViewer that inherits from Cell2DViewer and try different ways to visualize the results. As a simple example, use a different colormap.\n",
    "\n",
    "One of the more interesting patterns in Highlife is the replicator (see http://thinkcomplex.com/repl). Use add_cells to initialize Highlife with a replicator and see what it does."
   ]
  },
  {
   "cell_type": "code",
   "execution_count": 1,
   "metadata": {},
   "outputs": [],
   "source": [
    "from Cell2D import Cell2D\n",
    "from scipy.signal import correlate2d\n",
    "import numpy as np"
   ]
  },
  {
   "cell_type": "code",
   "execution_count": 2,
   "metadata": {},
   "outputs": [],
   "source": [
    "class HighLife(Cell2D):\n",
    "    \"\"\"Implementation of High Life.\"\"\"\n",
    "    kernel = np.array([[1, 1, 1],\n",
    "                       [1,10, 1],\n",
    "                       [1, 1, 1]])\n",
    "\n",
    "    table = np.zeros(20, dtype=np.uint8)\n",
    "    table[[3, 6, 12, 13]] = 1\n",
    "    \n",
    "    # Rules:\n",
    "    #   1.) A dead cell comes to life if it has 3 or 6 live neighbors.\n",
    "    #   2.) A live cell dies if its number of neighbors is not 2 or 3.\n",
    "    \n",
    "    def step(self):\n",
    "        \"\"\"Executes one time step.\"\"\"\n",
    "        c = correlate2d(self.array, self.kernel, mode='same')\n",
    "        self.array = self.table[c]"
   ]
  },
  {
   "cell_type": "markdown",
   "metadata": {},
   "source": [
    "##### Parser for GoL portable format from Exercise 6-2\n",
    "Source: `./src/solutions/exercise6_2.ipynb`\n",
    "\n",
    "_NOTE: Automata in Highlife and GoL are the same. As such this GoL portable format parser is used here as well._"
   ]
  },
  {
   "cell_type": "code",
   "execution_count": 3,
   "metadata": {},
   "outputs": [],
   "source": [
    "def parse_GoL(raw_str):\n",
    "    IN_ALIVE_CELL = \"O\"\n",
    "    IN_DEAD_CELL = \".\"\n",
    "    OUT_ALIVE_CELL = \"1\"\n",
    "    OUT_DEAD_CELL = \"0\"\n",
    "    COMMENT = \"!\"\n",
    "\n",
    "    board = []\n",
    "    str_by_lines = raw_str.split(\"\\n\")\n",
    "    \n",
    "    for line in str_by_lines:\n",
    "        board.append(\"\")\n",
    "        for char in line:\n",
    "            # Ignore white spaces.\n",
    "            if char.isspace():\n",
    "                continue\n",
    "            # Ignore the remaining characters in the line as they are commented out.\n",
    "            elif char == COMMENT:\n",
    "                if len(board[-1]) == 0:\n",
    "                    board.pop()\n",
    "                break\n",
    "            elif char == IN_ALIVE_CELL:\n",
    "                board[-1] += OUT_ALIVE_CELL\n",
    "            elif char == IN_DEAD_CELL:\n",
    "                board[-1] += OUT_DEAD_CELL\n",
    "            else:\n",
    "                raise ValueError(\"'{}' is an invalid character.\".format(char))\n",
    "    return board\n",
    "\n",
    "\n",
    "def make_high_life(n, m, row, col, str_input):\n",
    "    life = HighLife(n, m)\n",
    "    life.add_cells(row, col, *parse_GoL(str_input))\n",
    "    return life"
   ]
  },
  {
   "cell_type": "markdown",
   "metadata": {},
   "source": [
    "### Demo: Replicator"
   ]
  },
  {
   "cell_type": "code",
   "execution_count": 4,
   "metadata": {},
   "outputs": [
    {
     "data": {
      "image/png": "[encoded data removed]",
      "text/plain": [
       "<Figure size 432x288 with 1 Axes>"
      ]
     },
     "metadata": {},
     "output_type": "display_data"
    }
   ],
   "source": [
    "replicator = \"\"\"\n",
    "! Name: Replicator\n",
    "! Source: https://conwaylife.com/w/index.php?title=Replicator\n",
    "...OOO.\n",
    "..O..O.\n",
    ".O...O.\n",
    ".O..O\n",
    ".OOO...\n",
    "\"\"\"\n",
    "\n",
    "replicator_HL = make_high_life(80, 80, 35, 35, replicator)\n",
    "replicator_HL.animate(100)"
   ]
  }
 ],
 "metadata": {
  "kernelspec": {
   "display_name": "Python 3",
   "language": "python",
   "name": "python3"
  },
  "language_info": {
   "codemirror_mode": {
    "name": "ipython",
    "version": 3
   },
   "file_extension": ".py",
   "mimetype": "text/x-python",
   "name": "python",
   "nbconvert_exporter": "python",
   "pygments_lexer": "ipython3",
   "version": "3.8.5"
  }
 },
 "nbformat": 4,
 "nbformat_minor": 4
}
