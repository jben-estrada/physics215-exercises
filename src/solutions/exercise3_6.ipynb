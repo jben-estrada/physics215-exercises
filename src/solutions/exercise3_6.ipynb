{
 "cells": [
  {
   "cell_type": "markdown",
   "metadata": {},
   "source": [
    "# Chapter 3 - Exercise 6\n",
    "#### Author: *John Benedick Estrada*\n",
    "---\n",
    "**Exercise:** Dijkstra’s algorithm solves the “single source shortest path” problem, but to compute the characteristic path length of a graph, we actually want to solve the “all pairs shortest path” problem.\n",
    "\n",
    "Of course, one option is to run Dijkstra’s algorithm n times, once for each starting node. And for some applications, that’s probably good enough. But there are are more efficient alternatives.\n",
    "\n",
    "Find an algorithm for the all-pairs shortest path problem and implement it. See [http://thinkcomplex.com/short.\n",
    "](https://en.wikipedia.org/wiki/Shortest_path_problem#All-pairs_shortest_paths).\n",
    "\n",
    "Compare the run time of your implementation with running Dijkstra’s algorithm n times. Which algorithm is better in theory? Which is better in practice? Which one does NetworkX use?"
   ]
  },
  {
   "cell_type": "code",
   "execution_count": 1,
   "metadata": {},
   "outputs": [],
   "source": [
    "import networkx as nx\n",
    "from math import inf\n",
    "from collections import deque\n",
    "from typing import Hashable, Iterator"
   ]
  },
  {
   "cell_type": "markdown",
   "metadata": {},
   "source": [
    "##### Function for generating ring lattices"
   ]
  },
  {
   "cell_type": "code",
   "execution_count": 2,
   "metadata": {},
   "outputs": [],
   "source": [
    "def adjacent_edges(nodes: Iterator, halfk: int):\n",
    "    n = len(nodes)\n",
    "    for i, u in enumerate(nodes):\n",
    "        for j in range(i+1, i+halfk+1):\n",
    "            v = nodes[j % n]\n",
    "            yield u, v\n",
    "\n",
    "\n",
    "def make_ring_lattice(n: int, k: int):\n",
    "    G = nx.Graph()\n",
    "    nodes = range(n)\n",
    "    G.add_nodes_from(nodes)\n",
    "    G.add_edges_from(adjacent_edges(nodes, k//2))\n",
    "    return G"
   ]
  },
  {
   "cell_type": "markdown",
   "metadata": {},
   "source": [
    "##### Dijkstra's shortest path algorithm"
   ]
  },
  {
   "cell_type": "code",
   "execution_count": 3,
   "metadata": {},
   "outputs": [],
   "source": [
    "# NOTE: Implementation of Dijkstra's SPA is from the book.\n",
    "def dijkstra_spa(G: nx.Graph, source: Hashable):\n",
    "    dist = {source: 0}\n",
    "    queue = deque([source])\n",
    "    while queue:\n",
    "        node = queue.popleft()\n",
    "        new_dist = dist[node] + 1\n",
    "\n",
    "        neighbors = set(G[node]).difference(dist)\n",
    "        for n in neighbors:\n",
    "            dist[n] = new_dist\n",
    "        \n",
    "        queue.extend(neighbors)\n",
    "    return dist\n",
    "\n",
    "\n",
    "def dijkstra_spa_all_pairs(G: nx.Graph):\n",
    "    dist = dict((node, inf) for node in G)\n",
    "\n",
    "    for source in G.nodes():\n",
    "        dist[source] = dijkstra_spa(G, source)\n",
    "    return dist"
   ]
  },
  {
   "cell_type": "markdown",
   "metadata": {},
   "source": [
    "##### Floyd-Warshall algorithm\n",
    "\n",
    "The pseudo-codes used as basis for my implementation are found [here](https://en.wikipedia.org/wiki/Floyd%E2%80%93Warshall_algorithm) and [here](https://www.geeksforgeeks.org/floyd-warshall-algorithm-dp-16/)."
   ]
  },
  {
   "cell_type": "code",
   "execution_count": 4,
   "metadata": {},
   "outputs": [],
   "source": [
    "def floyd_warshall(G: nx.Graph):\n",
    "    nodes = G.nodes\n",
    "    dist = dict((n, {}) for n in nodes)\n",
    "    # Populate `dist` with known lengths between adjacent nodes.\n",
    "    for n in nodes:\n",
    "        neighbors = G[n]\n",
    "        for m in nodes:\n",
    "            if m == n:\n",
    "                dist[n][m] = 0\n",
    "            elif m in neighbors:\n",
    "                dist[n][m] = 1  # We treat all edge \"weights\" in unweighted graphs as 1.\n",
    "            else:\n",
    "                dist[n][m] = inf\n",
    "\n",
    "    for k in nodes:\n",
    "        for i in nodes:\n",
    "            for j in nodes:\n",
    "                dist[i][j] = min(dist[i][j], dist[i][k] + dist[k][j])\n",
    "\n",
    "    return dist"
   ]
  },
  {
   "cell_type": "markdown",
   "metadata": {},
   "source": [
    "##### Test the Floyd-Warshall implementation"
   ]
  },
  {
   "cell_type": "code",
   "execution_count": 5,
   "metadata": {},
   "outputs": [
    {
     "name": "stdout",
     "output_type": "stream",
     "text": [
      "Success!\n"
     ]
    }
   ],
   "source": [
    "n = 30\n",
    "for k in range(2, n+2, 2):\n",
    "    G = make_ring_lattice(n, k)\n",
    "    assert dijkstra_spa_all_pairs(G) == floyd_warshall(G), \\\n",
    "        f\"Test failed at k={k} for n={n}\"\n",
    "\n",
    "print(\"Success!\")\n",
    "del G"
   ]
  },
  {
   "cell_type": "markdown",
   "metadata": {},
   "source": [
    "##### Benchmark the two all-pair shortest path algorithms"
   ]
  },
  {
   "cell_type": "code",
   "execution_count": 6,
   "metadata": {},
   "outputs": [
    {
     "name": "stdout",
     "output_type": "stream",
     "text": [
      "Modified Dijkstra's SPA:  242 µs ± 19.3 µs per loop (mean ± std. dev. of 7 runs, 1000 loops each)\n"
     ]
    }
   ],
   "source": [
    "G = make_ring_lattice(10, 5)\n",
    "\n",
    "print(\"Modified Dijkstra's SPA:  \", end=\"\")\n",
    "%timeit dijkstra_spa_all_pairs(G)"
   ]
  },
  {
   "cell_type": "code",
   "execution_count": 7,
   "metadata": {},
   "outputs": [
    {
     "name": "stdout",
     "output_type": "stream",
     "text": [
      "Floyd-Warshall algorithm: 578 µs ± 20.1 µs per loop (mean ± std. dev. of 7 runs, 1000 loops each)\n"
     ]
    }
   ],
   "source": [
    "G = make_ring_lattice(10, 5)\n",
    "\n",
    "print(\"Floyd-Warshall algorithm: \", end=\"\")\n",
    "%timeit floyd_warshall(G)"
   ]
  }
 ],
 "metadata": {
  "kernelspec": {
   "display_name": "physics215",
   "language": "python",
   "name": "physics215"
  },
  "language_info": {
   "codemirror_mode": {
    "name": "ipython",
    "version": 3
   },
   "file_extension": ".py",
   "mimetype": "text/x-python",
   "name": "python",
   "nbconvert_exporter": "python",
   "pygments_lexer": "ipython3",
   "version": "3.8.5"
  }
 },
 "nbformat": 4,
 "nbformat_minor": 4
}