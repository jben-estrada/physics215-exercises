{
 "cells": [
  {
   "cell_type": "markdown",
   "metadata": {},
   "source": [
    "# Chapter 6 - Exercise 3\n",
    "### Author: *John Benedick Estrada*\n",
    "---\n",
    "**Exercise:** One of the longest-lived small patterns is “rabbits”, which starts with 9 live cells and takes 17,331 steps to stabilize. You can get the initial configuration in various formats from http://thinkcomplex.com/rabbits.\n",
    "Load this configuration and run it.\n"
   ]
  },
  {
   "cell_type": "markdown",
   "metadata": {},
   "source": [
    "### Code from my solution to Chapter 6 - Exercise 2"
   ]
  },
  {
   "cell_type": "markdown",
   "metadata": {},
   "source": [
    "##### Code obtained from the book"
   ]
  },
  {
   "cell_type": "code",
   "execution_count": 1,
   "metadata": {},
   "outputs": [],
   "source": [
    "import numpy as np\n",
    "import matplotlib.pyplot as plt\n",
    "from time import sleep\n",
    "from IPython.display import clear_output\n",
    "from utils import underride\n",
    "\n",
    "from scipy.signal import correlate2d"
   ]
  },
  {
   "cell_type": "code",
   "execution_count": 2,
   "metadata": {},
   "outputs": [],
   "source": [
    "\"\"\" Code example from Complexity and Computation, a book about\n",
    "exploring complexity science with Python.  Available free from\n",
    "\n",
    "http://greenteapress.com/complexity\n",
    "\n",
    "Copyright 2016 Allen Downey\n",
    "MIT License: http://opensource.org/licenses/MIT\n",
    "\"\"\"\n",
    "\n",
    "\n",
    "class Cell2D:\n",
    "    \"\"\"Parent class for 2-D cellular automata.\"\"\"\n",
    "\n",
    "    def __init__(self, n, m=None):\n",
    "        \"\"\"Initializes the attributes.\n",
    "\n",
    "        n: number of rows\n",
    "        m: number of columns\n",
    "        \"\"\"\n",
    "        m = n if m is None else m\n",
    "        self.array = np.zeros((n, m), np.uint8)\n",
    "\n",
    "    def add_cells(self, row, col, *strings):\n",
    "        \"\"\"Adds cells at the given location.\n",
    "\n",
    "        row: top row index\n",
    "        col: left col index\n",
    "        strings: list of strings of 0s and 1s\n",
    "        \"\"\"\n",
    "        for i, s in enumerate(strings):\n",
    "            self.array[row+i, col:col+len(s)] = np.array([int(b) for b in s])\n",
    "\n",
    "    def loop(self, iters=1):\n",
    "        \"\"\"Runs the given number of steps.\"\"\"\n",
    "        for i in range(iters):\n",
    "            self.step()\n",
    "\n",
    "    def draw(self, **options):\n",
    "        \"\"\"Draws the array.\n",
    "        \"\"\"\n",
    "        draw_array(self.array, **options)\n",
    "\n",
    "    def animate(self, frames, interval=None, step=None):\n",
    "        \"\"\"Animate the automaton.\n",
    "        \n",
    "        frames: number of frames to draw\n",
    "        interval: time between frames in seconds\n",
    "        iters: number of steps between frames\n",
    "        \"\"\"\n",
    "        if step is None:\n",
    "            step = self.step\n",
    "            \n",
    "        plt.figure()\n",
    "        try:\n",
    "            for i in range(frames-1):\n",
    "                self.draw()\n",
    "                plt.show()\n",
    "                if interval:\n",
    "                    sleep(interval)\n",
    "                step()\n",
    "                clear_output(wait=True)\n",
    "            self.draw()\n",
    "            plt.show()\n",
    "        except KeyboardInterrupt:\n",
    "            pass\n",
    "        \n",
    "\n",
    "def draw_array(array, **options):\n",
    "    \"\"\"Draws the cells.\"\"\"\n",
    "    n, m = array.shape\n",
    "    options = underride(options,\n",
    "                        cmap='Greens',\n",
    "                        alpha=0.7,\n",
    "                        vmin=0, vmax=1, \n",
    "                        interpolation='none', \n",
    "                        origin='upper',\n",
    "                        extent=[0, m, 0, n])\n",
    "\n",
    "    plt.axis([0, m, 0, n])\n",
    "    plt.xticks([])\n",
    "    plt.yticks([])\n",
    "\n",
    "    return plt.imshow(array, **options)\n",
    "\n",
    "\n",
    "class Life(Cell2D):\n",
    "    \"\"\"Implementation of Conway's Game of Life.\"\"\"\n",
    "    kernel = np.array([[1, 1, 1],\n",
    "                       [1,10, 1],\n",
    "                       [1, 1, 1]])\n",
    "\n",
    "    table = np.zeros(20, dtype=np.uint8)\n",
    "    table[[3, 12, 13]] = 1\n",
    "\n",
    "    def step(self):\n",
    "        \"\"\"Executes one time step.\"\"\"\n",
    "        c = correlate2d(self.array, self.kernel, mode='same')\n",
    "        self.array = self.table[c]"
   ]
  },
  {
   "cell_type": "markdown",
   "metadata": {},
   "source": [
    "##### Modifications done on the `make_life` function."
   ]
  },
  {
   "cell_type": "code",
   "execution_count": 3,
   "metadata": {},
   "outputs": [],
   "source": [
    "def parse_GoL(raw_str):\n",
    "    IN_ALIVE_CELL = \"O\"\n",
    "    IN_DEAD_CELL = \".\"\n",
    "    OUT_ALIVE_CELL = \"1\"\n",
    "    OUT_DEAD_CELL = \"0\"\n",
    "    COMMENT = \"!\"\n",
    "\n",
    "    board = []\n",
    "    str_by_lines = raw_str.split(\"\\n\")\n",
    "    \n",
    "    for line in str_by_lines:\n",
    "        board.append(\"\")\n",
    "        for char in line:\n",
    "            # Ignore white spaces.\n",
    "            if char.isspace():\n",
    "                continue\n",
    "            # Ignore the remaining characters in the line as they are commented out.\n",
    "            elif char == COMMENT:\n",
    "                if len(board[-1]) == 0:\n",
    "                    board.pop()\n",
    "                break\n",
    "            elif char == IN_ALIVE_CELL:\n",
    "                board[-1] += OUT_ALIVE_CELL\n",
    "            elif char == IN_DEAD_CELL:\n",
    "                board[-1] += OUT_DEAD_CELL\n",
    "            else:\n",
    "                raise ValueError(f\"'{char}' is an invalid character.\")\n",
    "    return board\n",
    "\n",
    "\n",
    "def make_life(n, m, row, col, str_input):\n",
    "    life = Life(n, m)\n",
    "    life.add_cells(row, col, *parse_GoL(str_input))\n",
    "    return life"
   ]
  },
  {
   "cell_type": "markdown",
   "metadata": {},
   "source": [
    "### The \"Rabbits\" pattern"
   ]
  },
  {
   "cell_type": "code",
   "execution_count": 4,
   "metadata": {},
   "outputs": [
    {
     "data": {
      "text/plain": [
       "<Figure size 432x288 with 0 Axes>"
      ]
     },
     "metadata": {},
     "output_type": "display_data"
    }
   ],
   "source": [
    "rabbits = \"\"\"\n",
    "!Name: Rabbits\n",
    "!Author: Andrew Trevorrow\n",
    "!A methuselah with lifespan 17331.\n",
    "!http://www.conwaylife.com/wiki/index.php?title=Rabbits\n",
    "O...OOO\n",
    "OOO..O\n",
    ".O\n",
    "\"\"\"\n",
    "\n",
    "rabbits_life = make_life(200, 200, 100, 100, rabbits)\n",
    "rabbits_life.animate(17331)"
   ]
  }
 ],
 "metadata": {
  "kernelspec": {
   "display_name": "physics215",
   "language": "python",
   "name": "physics215"
  },
  "language_info": {
   "codemirror_mode": {
    "name": "ipython",
    "version": 3
   },
   "file_extension": ".py",
   "mimetype": "text/x-python",
   "name": "python",
   "nbconvert_exporter": "python",
   "pygments_lexer": "ipython3",
   "version": "3.8.5"
  }
 },
 "nbformat": 4,
 "nbformat_minor": 4
}
