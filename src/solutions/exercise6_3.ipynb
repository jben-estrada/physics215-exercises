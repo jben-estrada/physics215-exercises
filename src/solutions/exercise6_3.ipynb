{
 "cells": [
  {
   "cell_type": "markdown",
   "metadata": {},
   "source": [
    "# Chapter 6 - Exercise 3\n",
    "### Author: *John Benedick Estrada*\n",
    "---\n",
    "**Exercise:** One of the longest-lived small patterns is “rabbits”, which starts with 9 live cells and takes 17,331 steps to stabilize. You can get the initial configuration in various formats from http://thinkcomplex.com/rabbits.\n",
    "Load this configuration and run it.\n"
   ]
  },
  {
   "cell_type": "markdown",
   "metadata": {},
   "source": [
    "### Code from my solution to Chapter 6 - Exercise 2"
   ]
  },
  {
   "cell_type": "code",
   "execution_count": 1,
   "metadata": {},
   "outputs": [],
   "source": [
    "from Cell2D import Cell2D\n",
    "from scipy.signal import correlate2d\n",
    "import numpy as np"
   ]
  },
  {
   "cell_type": "markdown",
   "metadata": {},
   "source": [
    "##### Implementation of Conway's Game of Life\n",
    "Source: https://github.com/AllenDowney/ThinkComplexity2/blob/master/notebooks/chap06.ipynb (Cell 2)"
   ]
  },
  {
   "cell_type": "code",
   "execution_count": 2,
   "metadata": {},
   "outputs": [],
   "source": [
    "class Life(Cell2D):\n",
    "    \"\"\"Implementation of Conway's Game of Life.\"\"\"\n",
    "    kernel = np.array([[1, 1, 1],\n",
    "                       [1,10, 1],\n",
    "                       [1, 1, 1]])\n",
    "\n",
    "    table = np.zeros(20, dtype=np.uint8)\n",
    "    table[[3, 12, 13]] = 1\n",
    "\n",
    "    def step(self):\n",
    "        \"\"\"Executes one time step.\"\"\"\n",
    "        c = correlate2d(self.array, self.kernel, mode='same')\n",
    "        self.array = self.table[c]"
   ]
  },
  {
   "cell_type": "markdown",
   "metadata": {},
   "source": [
    "##### Parser for GoL portable format from Exercise 6-2\n",
    "Source: `./src/solutions/exercise6_2.ipynb`"
   ]
  },
  {
   "cell_type": "code",
   "execution_count": 3,
   "metadata": {},
   "outputs": [],
   "source": [
    "def parse_GoL(raw_str):\n",
    "    IN_ALIVE_CELL = \"O\"\n",
    "    IN_DEAD_CELL = \".\"\n",
    "    OUT_ALIVE_CELL = \"1\"\n",
    "    OUT_DEAD_CELL = \"0\"\n",
    "    COMMENT = \"!\"\n",
    "\n",
    "    board = []\n",
    "    str_by_lines = raw_str.split(\"\\n\")\n",
    "    \n",
    "    for line in str_by_lines:\n",
    "        board.append(\"\")\n",
    "        for char in line:\n",
    "            # Ignore white spaces.\n",
    "            if char.isspace():\n",
    "                continue\n",
    "            # Ignore the remaining characters in the line as they are commented out.\n",
    "            elif char == COMMENT:\n",
    "                if len(board[-1]) == 0:\n",
    "                    board.pop()\n",
    "                break\n",
    "            elif char == IN_ALIVE_CELL:\n",
    "                board[-1] += OUT_ALIVE_CELL\n",
    "            elif char == IN_DEAD_CELL:\n",
    "                board[-1] += OUT_DEAD_CELL\n",
    "            else:\n",
    "                raise ValueError(f\"'{char}' is an invalid character.\")\n",
    "    return board\n",
    "\n",
    "\n",
    "def make_life(n, m, row, col, str_input):\n",
    "    life = Life(n, m)\n",
    "    life.add_cells(row, col, *parse_GoL(str_input))\n",
    "    return life"
   ]
  },
  {
   "cell_type": "markdown",
   "metadata": {},
   "source": [
    "### The \"Rabbits\" pattern"
   ]
  },
  {
   "cell_type": "code",
   "execution_count": 4,
   "metadata": {},
   "outputs": [
    {
     "data": {
      "text/plain": [
       "<Figure size 432x288 with 0 Axes>"
      ]
     },
     "metadata": {},
     "output_type": "display_data"
    }
   ],
   "source": [
    "rabbits = \"\"\"\n",
    "!Name: Rabbits\n",
    "!Author: Andrew Trevorrow\n",
    "!A methuselah with lifespan 17331.\n",
    "!http://www.conwaylife.com/wiki/index.php?title=Rabbits\n",
    "O...OOO\n",
    "OOO..O\n",
    ".O\n",
    "\"\"\"\n",
    "\n",
    "rabbits_life = make_life(200, 200, 100, 100, rabbits)\n",
    "rabbits_life.animate(17331)"
   ]
  }
 ],
 "metadata": {
  "kernelspec": {
   "display_name": "physics215",
   "language": "python",
   "name": "physics215"
  },
  "language_info": {
   "codemirror_mode": {
    "name": "ipython",
    "version": 3
   },
   "file_extension": ".py",
   "mimetype": "text/x-python",
   "name": "python",
   "nbconvert_exporter": "python",
   "pygments_lexer": "ipython3",
   "version": "3.8.5"
  }
 },
 "nbformat": 4,
 "nbformat_minor": 4
}
