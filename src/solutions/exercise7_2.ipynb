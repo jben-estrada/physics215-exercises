{
 "cells": [
  {
   "cell_type": "markdown",
   "metadata": {},
   "source": [
    "# Chapter 7 - Exercise 2\n",
    "### Author: *John Benedick Estrada*\n",
    "---\n",
    "**Exercise:** In 1990 Bak, Chen and Tang proposed a cellular automaton that is\n",
    "an abstract model of a forest fire.  Each cell is in one of three\n",
    "states: empty, occupied by a tree, or on fire.\n",
    "\n",
    "The rules of the CA are:\n",
    "\n",
    "* An empty cell becomes occupied with probability $p$.\n",
    "\n",
    "* A cell with a tree burns if any of its neighbors\n",
    "  is on fire.\n",
    "\n",
    "* A cell with a tree spontaneously burns, with\n",
    "  probability $f$, even if none of its neighbors is on fire.\n",
    "\n",
    "* A cell with a burning tree becomes an empty cell in the next\n",
    "  time step.\n",
    "\n",
    "Write a\n",
    "program that implements it.  You might want to inherit from `Cell2D`.\n",
    "Typical values for the parameters are\n",
    "$p=0.01$ and $f=0.001$, but you might want to experiment with other\n",
    "values.\n",
    "\n",
    "Starting from a random initial condition, run the CA until it reaches\n",
    "a steady state where the number of trees no longer increases or\n",
    "decreases consistently.  \n",
    "\n",
    "In steady state, is the geometry of the forest fractal?\n",
    "What is its fractal dimension?"
   ]
  },
  {
   "cell_type": "code",
   "execution_count": 1,
   "metadata": {},
   "outputs": [],
   "source": [
    "import numpy as np\n",
    "import matplotlib.pyplot as plt\n",
    "\n",
    "from Cell2D import Cell2D\n",
    "from scipy.signal import correlate2d\n",
    "from matplotlib.colors import LinearSegmentedColormap\n",
    "from utils import underride"
   ]
  },
  {
   "cell_type": "markdown",
   "metadata": {},
   "source": [
    "### Forest Fire CA implementation"
   ]
  },
  {
   "cell_type": "code",
   "execution_count": 2,
   "metadata": {},
   "outputs": [],
   "source": [
    "class ForestFire(Cell2D):\n",
    "    EMPTY = 0\n",
    "    LIVE_TREE = 1\n",
    "    BURNING_TREE = 5\n",
    "\n",
    "    # Color map\n",
    "    cmap = LinearSegmentedColormap.from_list(\n",
    "                \"forest_fire_cmap\",\n",
    "                [(EMPTY/BURNING_TREE, \"w\"), \n",
    "                 (LIVE_TREE/BURNING_TREE, \"g\"),\n",
    "                 (BURNING_TREE/BURNING_TREE, \"r\")]\n",
    "            )\n",
    "\n",
    "    kernel = np.array([[0, 1, 0],\n",
    "                       [1, 0, 1],\n",
    "                       [0, 1, 0]])\n",
    "    \n",
    "    def __init__(self, n, m=None, p=0.01, f=0.001):\n",
    "        super().__init__(n, m)\n",
    "        self.p = p\n",
    "        self.f= f\n",
    "        \n",
    "        self.n, self.m = self.array.shape\n",
    "\n",
    "    def step(self):\n",
    "        neighbor_check = correlate2d(self.array, self.kernel, mode=\"same\", boundary=\"wrap\")\n",
    "        rand_mask = np.random.random(self.array.shape)\n",
    "\n",
    "        # RULE 1: An empty cell becomes occupied with probability `p`.\n",
    "        new_trees = (self.array == self.EMPTY) & (rand_mask < self.p)\n",
    "        # RULE 2: A cell with a tree burns if any of its neighbors is on fire.\n",
    "        burning = (self.array == self.LIVE_TREE) & (neighbor_check >= 5)\n",
    "        # RULE 3: A cell with a tree spontaneously burns, with probability `f`, even if none of its neighbors is on fire.\n",
    "        spontaneous = (self.array == self.LIVE_TREE) & (rand_mask < self.f)\n",
    "        # RULE 4: A cell with a burning tree becomes an empty cell in the next time step. \n",
    "        empty_cells = (self.array == self.BURNING_TREE)\n",
    "\n",
    "        self.array[new_trees] = self.LIVE_TREE\n",
    "        self.array[burning] = self.BURNING_TREE\n",
    "        self.array[spontaneous] = self.BURNING_TREE\n",
    "        self.array[empty_cells] = self.EMPTY\n",
    "    \n",
    "    def draw(self, **options):\n",
    "        options = underride(options,\n",
    "                            cmap=self.cmap,\n",
    "                            alpha=0.7,\n",
    "                            interpolation='none', \n",
    "                            origin='upper',\n",
    "                            extent=[0, self.m, 0, self.n])\n",
    "        plt.axis([0, self.m, 0, self.n])\n",
    "        plt.xticks([])\n",
    "        plt.yticks([])\n",
    "        \n",
    "        plt.imshow(self.array, **options)\n",
    "\n",
    "\n",
    "def make_rand_forest_fire(n, m=None, p=0.01, f=0.001):\n",
    "    ff = ForestFire(n, m, p, f)\n",
    "\n",
    "    empty, live, burning = 0, 1, 2\n",
    "    rand_state = np.random.randint(0, 3, size=ff.array.shape)\n",
    "    rand_state[rand_state == burning] = ff.BURNING_TREE\n",
    "    ff.array = rand_state\n",
    "    return ff"
   ]
  },
  {
   "cell_type": "code",
   "execution_count": 3,
   "metadata": {},
   "outputs": [
    {
     "data": {
      "image/png": "[encoded data removed]",
      "text/plain": [
       "<Figure size 432x288 with 1 Axes>"
      ]
     },
     "metadata": {},
     "output_type": "display_data"
    }
   ],
   "source": [
    "test_ff = make_rand_forest_fire(100, 100)\n",
    "test_ff.animate(100)"
   ]
  }
 ],
 "metadata": {
  "kernelspec": {
   "display_name": "physics215",
   "language": "python",
   "name": "physics215"
  },
  "language_info": {
   "codemirror_mode": {
    "name": "ipython",
    "version": 3
   },
   "file_extension": ".py",
   "mimetype": "text/x-python",
   "name": "python",
   "nbconvert_exporter": "python",
   "pygments_lexer": "ipython3",
   "version": "3.8.5"
  }
 },
 "nbformat": 4,
 "nbformat_minor": 4
}
