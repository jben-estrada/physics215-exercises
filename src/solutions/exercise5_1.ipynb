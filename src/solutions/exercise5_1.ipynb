{
 "metadata": {
  "language_info": {
   "codemirror_mode": {
    "name": "ipython",
    "version": 3
   },
   "file_extension": ".py",
   "mimetype": "text/x-python",
   "name": "python",
   "nbconvert_exporter": "python",
   "pygments_lexer": "ipython3",
   "version": "3.8.5-final"
  },
  "orig_nbformat": 2,
  "kernelspec": {
   "name": "physics215",
   "display_name": "physics215"
  }
 },
 "nbformat": 4,
 "nbformat_minor": 2,
 "cells": [
  {
   "source": [
    "# Chapter 5 - Exercise 1\n",
    "#### Author: *John Benedick Estrada*\n",
    "---\n",
    "**Exercise:** Write a version of `correlate` that returns the same result as `np.correlate` with `mode='same'.`"
   ],
   "cell_type": "markdown",
   "metadata": {}
  },
  {
   "source": [
    "##### Functions directly lifted from the book."
   ],
   "cell_type": "markdown",
   "metadata": {}
  },
  {
   "cell_type": "code",
   "execution_count": 2,
   "metadata": {},
   "outputs": [],
   "source": [
    "import numpy as np"
   ]
  },
  {
   "cell_type": "code",
   "execution_count": 13,
   "metadata": {},
   "outputs": [],
   "source": [
    "def c_k(a, w, k):\n",
    "    \"\"\"Compute element k of the cross correlation of a and w.\n",
    "    \"\"\"\n",
    "    N = len(w)\n",
    "    return sum(a[k:k+N] * w)"
   ]
  },
  {
   "source": [
    "##### **My implementation of `correlate` with padded `row`s.**"
   ],
   "cell_type": "markdown",
   "metadata": {}
  },
  {
   "cell_type": "code",
   "execution_count": 3,
   "metadata": {},
   "outputs": [],
   "source": [
    "def correlate_padded(row, window):\n",
    "    padded_row = np.pad(row, 1, \"constant\")\n",
    "    cols = len(padded_row)\n",
    "    N = len(window)\n",
    "    c = [c_k(padded_row, window, k) for k in range(cols-N+1)]\n",
    "    return np.array(c)"
   ]
  },
  {
   "source": [
    "##### Sample Data"
   ],
   "cell_type": "markdown",
   "metadata": {}
  },
  {
   "cell_type": "code",
   "execution_count": 5,
   "metadata": {},
   "outputs": [],
   "source": [
    "N = 10\n",
    "row = np.arange(N, dtype=np.uint8)\n",
    "window = [1, 1, 1]"
   ]
  },
  {
   "cell_type": "code",
   "execution_count": 16,
   "metadata": {},
   "outputs": [
    {
     "output_type": "stream",
     "name": "stdout",
     "text": [
      "`correlate` without padding:  [ 3  6  9 12 15 18 21 24]\n`correlate` with padding:  [ 1  3  6  9 12 15 18 21 24 17]\n\nMy implementation of `correlate` with padding: [ 1  3  6  9 12 15 18 21 24 17]\n"
     ]
    }
   ],
   "source": [
    "print(\"`correlate` without padding: \", np.correlate(row, window, mode=\"valid\"))\n",
    "print(\"`correlate` with padding: \", np.correlate(row, window, mode=\"same\"))\n",
    "\n",
    "print(\"\\nMy implementation of `correlate` with padding:\", correlate_padded(row, window))"
   ]
  }
 ]
}