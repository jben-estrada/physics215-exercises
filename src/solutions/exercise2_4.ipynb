{
 "cells": [
  {
   "cell_type": "markdown",
   "metadata": {},
   "source": [
    "# Chapter 2 - Exercise 4\n",
    "#### Author: *John Benedick Estrada*\n",
    "---\n",
    "**Exercise:** There are actually two kinds of ER graphs.  The one we generated in the chapter, $G(n, p)$, is characterized by two parameters, the number of nodes and the probability of an edge between nodes.\n",
    "\n",
    "An alternative definition, denoted $G(n, m)$, is also characterized by two parameters: the number of nodes, $n$, and the number of edges, $m$.  Under this definition, the number of edges is fixed, but their location is random.\n",
    "\n",
    "Repeat the experiments we did in this chapter using this alternative definition.  Here are a few suggestions for how to proceed:\n",
    "\n",
    "1. Write a function called `m_pairs` that takes a list of nodes and the number of edges, $m$, and returns a random selection of $m$ edges.  A simple way to do that is to generate a list of all possible edges and use `random.sample`.\n",
    "\n",
    "2. Write a function called `make_m_graph` that takes $n$ and $m$ and returns a random graph with $n$ nodes and $m$ edges.\n",
    "\n",
    "3. Make a version of `prob_connected` that uses `make_m_graph` instead of `make_random_graph`.\n",
    "\n",
    "4. Compute the probability of connectivity for a range of values of $m$.\n",
    "\n",
    "How do the results of this experiment compare to the results using the first type of ER graph?"
   ]
  },
  {
   "cell_type": "code",
   "execution_count": 1,
   "metadata": {},
   "outputs": [],
   "source": [
    "%matplotlib inline\n",
    "\n",
    "import random\n",
    "import networkx as nx\n",
    "import numpy as np\n",
    "import matplotlib.pyplot as plt\n",
    "\n",
    "from typing import Iterator, Tuple         # For type hints."
   ]
  },
  {
   "cell_type": "code",
   "execution_count": 2,
   "metadata": {},
   "outputs": [],
   "source": [
    "# Set seed to have consistent results.\n",
    "random.seed(0)"
   ]
  },
  {
   "cell_type": "markdown",
   "metadata": {},
   "source": [
    "#### Implementation of `m_graph`"
   ]
  },
  {
   "cell_type": "markdown",
   "metadata": {},
   "source": [
    "##### Function definitions directly lifted from the book"
   ]
  },
  {
   "cell_type": "code",
   "execution_count": 3,
   "metadata": {},
   "outputs": [],
   "source": [
    "def all_pairs(nodes: Iterator):\n",
    "    for i, u in enumerate(nodes):\n",
    "        for j, v in enumerate(nodes):\n",
    "            if i < j:\n",
    "                yield u, v"
   ]
  },
  {
   "cell_type": "code",
   "execution_count": 4,
   "metadata": {},
   "outputs": [],
   "source": [
    "def three_frame(world, n_seq, seed=17):\n",
    "    \"\"\"Draw three timesteps.\n",
    "    \n",
    "    world: object with step, loop, and draw\n",
    "    n_seq: 3-tuple, number of steps before each draw\n",
    "    seed: random see for NumPy\n",
    "    \"\"\"\n",
    "    np.random.seed(seed)\n",
    "    plt.figure(figsize=(10, 4))\n",
    "\n",
    "    for i, n in enumerate(n_seq):\n",
    "        plt.subplot(1, 3, i+1)\n",
    "        world.loop(n)\n",
    "        world.draw()\n",
    "\n",
    "    plt.tight_layout()\n",
    "\n",
    "\n",
    "def underride(d, **options):\n",
    "    \"\"\"Add key-value pairs to d only if key is not in d.\n",
    "    d: dictionary\n",
    "    options: keyword args to add to d\n",
    "    \"\"\"\n",
    "    for key, val in options.items():\n",
    "        d.setdefault(key, val)\n",
    "\n",
    "    return d\n",
    "\n",
    "\n",
    "def legend(**options):\n",
    "    \"\"\"Draws a legend only if there is at least one labeled item.\n",
    "    options are passed to plt.legend()\n",
    "    https://matplotlib.org/api/_as_gen/matplotlib.pyplot.legend.html\n",
    "    \"\"\"\n",
    "    underride(options, loc=\"best\", frameon=False)\n",
    "\n",
    "    ax = plt.gca()\n",
    "    handles, labels = ax.get_legend_handles_labels()\n",
    "    if handles:\n",
    "        ax.legend(handles, labels, **options)\n",
    "\n",
    "\n",
    "def decorate(**options):\n",
    "    \"\"\"Decorate the current axes.\n",
    "    Call decorate with keyword arguments like\n",
    "    decorate(title='Title',\n",
    "             xlabel='x',\n",
    "             ylabel='y')\n",
    "    The keyword arguments can be any of the axis properties\n",
    "    https://matplotlib.org/api/axes_api.html\n",
    "    In addition, you can use `legend=False` to suppress the legend.\n",
    "    And you can use `loc` to indicate the location of the legend\n",
    "    (the default value is 'best')\n",
    "    \"\"\"\n",
    "    loc = options.pop(\"loc\", \"best\")\n",
    "    if options.pop(\"legend\", True):\n",
    "        legend(loc=loc)\n",
    "\n",
    "    plt.gca().set(**options)\n",
    "    plt.tight_layout()"
   ]
  },
  {
   "cell_type": "markdown",
   "metadata": {},
   "source": [
    "##### Implementation proper"
   ]
  },
  {
   "cell_type": "code",
   "execution_count": 5,
   "metadata": {},
   "outputs": [],
   "source": [
    "def reachable_nodes_precheck(G, start):\n",
    "    seen = set()\n",
    "    stack = [start]\n",
    "    while stack:\n",
    "        node = stack.pop()\n",
    "        if node not in seen:\n",
    "            seen.add(node)\n",
    "            for neighbor in G.neighbors(node):\n",
    "                if neighbor not in seen:\n",
    "                    seen.add(neighbor)\n",
    "    return seen\n",
    "\n",
    "def is_connected(G: nx.Graph):\n",
    "    start = next(iter(G))\n",
    "    reachable = reachable_nodes_precheck(G, start)\n",
    "    return len(reachable) == len(G)"
   ]
  },
  {
   "cell_type": "code",
   "execution_count": 6,
   "metadata": {},
   "outputs": [],
   "source": [
    "def m_pairs(nodes: Iterator, m: int):\n",
    "    \"\"\"\n",
    "    Randomly select `m` number of edges from all possible edges that can be\n",
    "    formed with the given set of nodes `nodes`.\n",
    "    \"\"\"\n",
    "    yield from random.sample(list(all_pairs(nodes)), m)\n",
    "\n",
    "\n",
    "def make_m_graph(n: int, m: int):\n",
    "    \"\"\"\n",
    "    Make a random graph with `n` number of nodes and `m` number of edges.\n",
    "    \"\"\"\n",
    "    G = nx.Graph()\n",
    "    nodes = range(n)\n",
    "    rand_pairs = m_pairs(nodes, m)\n",
    "    G.add_nodes_from(nodes)\n",
    "    G.add_edges_from(rand_pairs)\n",
    "    return G\n",
    "\n",
    "\n",
    "def prob_connected(n: int, m: int, iters: int=100):\n",
    "    \"\"\"\n",
    "    `prob_connected`\n",
    "    Compute the probability of connectivity.\n",
    "    \"\"\"\n",
    "    tf = [is_connected(make_m_graph(n, m))\n",
    "          for i in range(iters)]\n",
    "    return np.mean(tf)"
   ]
  },
  {
   "cell_type": "markdown",
   "metadata": {},
   "source": [
    "##### Implementation of memoized `make_m_graph`\n",
    "NOTE: This is the implementation used in getting probability of connectivity."
   ]
  },
  {
   "cell_type": "code",
   "execution_count": 7,
   "metadata": {},
   "outputs": [],
   "source": [
    "def m_pairs_with_range(n: int, m: int, __all_pairs: dict={}):\n",
    "    \"\"\"\n",
    "    Randomly select `m` number of edges from all possible edges that can be\n",
    "    formed with the given set of integer nodes.\n",
    "    \n",
    "    This stores generated list of edges for given `n`.\n",
    "    \"\"\"\n",
    "    # Try to get the pre-calculated list of all possible edges.\n",
    "    try:\n",
    "        all_pair_list = __all_pairs[n]\n",
    "    except KeyError:\n",
    "        all_pair_list = list(all_pairs(range(n)))\n",
    "        __all_pairs[n] = all_pair_list\n",
    "\n",
    "    yield from random.sample(all_pair_list, m)\n",
    "\n",
    "\n",
    "def memoized_make_m_graph(n: int, m: int):\n",
    "    \"\"\"\n",
    "    Make a random graph with `n` number of nodes and `m` number of edges.\n",
    "    \n",
    "    This uses `m_pairs_with_range` instead of `m_pairs`.\n",
    "    \"\"\"\n",
    "    G = nx.Graph()\n",
    "    nodes = range(n)\n",
    "    rand_pairs = m_pairs_with_range(n, m)\n",
    "    G.add_nodes_from(nodes)\n",
    "    G.add_edges_from(rand_pairs)\n",
    "    return G\n",
    "\n",
    "\n",
    "def memoized_prob_connected(n: int, m: int, iters: int=100):\n",
    "    \"\"\"\n",
    "    `prob_connected`\n",
    "    Compute the probability of connectivity.\n",
    "    \"\"\"\n",
    "    tf = [is_connected(memoized_make_m_graph(n, m))\n",
    "          for i in range(iters)]\n",
    "    return np.mean(tf)"
   ]
  },
  {
   "cell_type": "markdown",
   "metadata": {},
   "source": [
    "The memoized version of `make_m_graph` is faster for a given set of inputs than the original `make_m_graph`."
   ]
  },
  {
   "cell_type": "code",
   "execution_count": 8,
   "metadata": {},
   "outputs": [
    {
     "name": "stdout",
     "output_type": "stream",
     "text": [
      "924 µs ± 67.8 µs per loop (mean ± std. dev. of 7 runs, 1000 loops each)\n",
      "195 µs ± 14.9 µs per loop (mean ± std. dev. of 7 runs, 10000 loops each)\n"
     ]
    }
   ],
   "source": [
    "%timeit make_m_graph(100, 100)\n",
    "%timeit memoized_make_m_graph(100, 100)"
   ]
  },
  {
   "cell_type": "markdown",
   "metadata": {},
   "source": [
    "#### Example of `make_m_graph`"
   ]
  },
  {
   "cell_type": "code",
   "execution_count": 9,
   "metadata": {},
   "outputs": [
    {
     "data": {
      "image/png": "[encoded data removed]",
      "text/plain": [
       "<Figure size 432x288 with 1 Axes>"
      ]
     },
     "metadata": {},
     "output_type": "display_data"
    }
   ],
   "source": [
    "rand_graph = make_m_graph(n=10, m=15)\n",
    "nx.draw_circular(rand_graph, \n",
    "                 node_color=\"C0\", \n",
    "                 node_size=500, \n",
    "                 with_labels=True)"
   ]
  },
  {
   "cell_type": "markdown",
   "metadata": {},
   "source": [
    "#### Probability of connectivity across all possible values of `m`"
   ]
  },
  {
   "cell_type": "code",
   "execution_count": 10,
   "metadata": {},
   "outputs": [
    {
     "name": "stdout",
     "output_type": "stream",
     "text": [
      "Current n: 300\n",
      "Current n: 100\n",
      "Current n: 30\n"
     ]
    },
    {
     "data": {
      "image/png": "[encoded data removed]",
      "text/plain": [
       "<Figure size 432x288 with 1 Axes>"
      ]
     },
     "metadata": {
      "needs_background": "light"
     },
     "output_type": "display_data"
    }
   ],
   "source": [
    "node_counts = [300, 100, 30]\n",
    "max_m_num = 30\n",
    "x_lower, x_upper = 1, 1\n",
    "\n",
    "for n in node_counts:\n",
    "    print(f\"Current n: {n}\")\n",
    "\n",
    "    # `max_m`: Maximum number of edges possible given the number of nodes.\n",
    "    # TODO: Source this\n",
    "    max_m = int(n*(n - 1)/2)\n",
    "    \n",
    "    # NOTE: Cast to `set` to compress the range of `m` values.\n",
    "    m_range = np.array(sorted(set(np.linspace(0, max_m, num=max_m_num, dtype=int))))\n",
    "    m_range_norm = m_range/np.max(m_range)  # Normalized `m` array.\n",
    "    m_prob = [memoized_prob_connected(n, m) for m in m_range]\n",
    "    plt.plot(m_range_norm, m_prob, \":.\", label=f\"n = {n}\")\n",
    "    \n",
    "    x_lower = np.min(m_range_norm[np.where(m_range_norm > 0)])\n",
    "    x_upper = np.max(m_range_norm)\n",
    "\n",
    "\n",
    "decorate(xlabel='$m$ / $m_{max}$',\n",
    "         ylabel='Prob connected',\n",
    "         xscale='log', \n",
    "         xlim=(x_lower, x_upper),\n",
    "         loc='upper left')\n",
    "\n",
    "plt.show()"
   ]
  },
  {
   "cell_type": "markdown",
   "metadata": {},
   "source": [
    "Huh. The result is different from the book. So probably, WS is not robust."
   ]
  }
 ],
 "metadata": {
  "kernelspec": {
   "display_name": "physics215",
   "language": "python",
   "name": "physics215"
  },
  "language_info": {
   "codemirror_mode": {
    "name": "ipython",
    "version": 3
   },
   "file_extension": ".py",
   "mimetype": "text/x-python",
   "name": "python",
   "nbconvert_exporter": "python",
   "pygments_lexer": "ipython3",
   "version": "3.8.5"
  }
 },
 "nbformat": 4,
 "nbformat_minor": 4
}
