{
 "cells": [
  {
   "cell_type": "markdown",
   "metadata": {},
   "source": [
    "# Chapter 6 - Exercise 1\n",
    "### Author: *John Benedick Estrada*\n",
    "---\n",
    "**Exercise:** Start GoL in a random state and run it until it stabilizes. What stable patterns can you identify?"
   ]
  },
  {
   "cell_type": "code",
   "execution_count": 1,
   "metadata": {},
   "outputs": [],
   "source": [
    "from Cell2D import Cell2D\n",
    "from scipy.signal import correlate2d\n",
    "import numpy as np"
   ]
  },
  {
   "cell_type": "markdown",
   "metadata": {},
   "source": [
    "##### Implementation of Conway's Game of Life\n",
    "Source: https://github.com/AllenDowney/ThinkComplexity2/blob/master/notebooks/chap06.ipynb"
   ]
  },
  {
   "cell_type": "code",
   "execution_count": 2,
   "metadata": {},
   "outputs": [],
   "source": [
    "# Class `Life` in Cell 2 of `chap06.ipynb`\n",
    "class Life(Cell2D):\n",
    "    \"\"\"Implementation of Conway's Game of Life.\"\"\"\n",
    "    kernel = np.array([[1, 1, 1],\n",
    "                       [1,10, 1],\n",
    "                       [1, 1, 1]])\n",
    "\n",
    "    table = np.zeros(20, dtype=np.uint8)\n",
    "    table[[3, 12, 13]] = 1\n",
    "\n",
    "    def step(self):\n",
    "        \"\"\"Executes one time step.\"\"\"\n",
    "        c = correlate2d(self.array, self.kernel, mode='same')\n",
    "        self.array = self.table[c]"
   ]
  },
  {
   "cell_type": "code",
   "execution_count": 3,
   "metadata": {},
   "outputs": [],
   "source": [
    "# Function `make_life` in Cell 3 of `chap06.ipynb`\n",
    "def make_life(n, m, row, col, *strings):\n",
    "    \"\"\"Makes a Life object.\n",
    "    \n",
    "    n, m: rows and columns of the Life array\n",
    "    row, col: upper left coordinate of the cells to be added\n",
    "    strings: list of strings of '0' and '1'\n",
    "    \"\"\"\n",
    "    life = Life(n, m)\n",
    "    life.add_cells(row, col, *strings)\n",
    "    return life"
   ]
  },
  {
   "cell_type": "markdown",
   "metadata": {},
   "source": [
    "##### Run Conway's Game of Life with random initial state"
   ]
  },
  {
   "cell_type": "code",
   "execution_count": 4,
   "metadata": {},
   "outputs": [],
   "source": [
    "def make_rand_state_life(n, m):\n",
    "    # Generate a list of random bit string.\n",
    "    init_state = [\"\".join([\"0\" if np.random.random() > 0.5 else \"1\" for _ in range(m)]) for _ in range(n)]\n",
    "\n",
    "    return make_life(n, m, 0, 0, *init_state)"
   ]
  },
  {
   "cell_type": "code",
   "execution_count": 5,
   "metadata": {},
   "outputs": [
    {
     "data": {
      "image/png": "[encoded data removed]",
      "text/plain": [
       "<Figure size 432x288 with 1 Axes>"
      ]
     },
     "metadata": {},
     "output_type": "display_data"
    }
   ],
   "source": [
    "life = make_rand_state_life(100, 100)\n",
    "life.draw()\n",
    "\n",
    "life.animate(1000)"
   ]
  }
 ],
 "metadata": {
  "kernelspec": {
   "display_name": "Python 3",
   "language": "python",
   "name": "python3"
  },
  "language_info": {
   "codemirror_mode": {
    "name": "ipython",
    "version": 3
   },
   "file_extension": ".py",
   "mimetype": "text/x-python",
   "name": "python",
   "nbconvert_exporter": "python",
   "pygments_lexer": "ipython3",
   "version": "3.8.5"
  }
 },
 "nbformat": 4,
 "nbformat_minor": 4
}
