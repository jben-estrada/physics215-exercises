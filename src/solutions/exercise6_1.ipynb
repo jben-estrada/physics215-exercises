{
 "cells": [
  {
   "cell_type": "markdown",
   "metadata": {},
   "source": [
    "# Chapter 6 - Exercise 1\n",
    "### Author: *John Benedick Estrada*\n",
    "---\n",
    "**Exercise:** Start GoL in a random state and run it until it stabilizes. What stable patterns can you identify?"
   ]
  },
  {
   "cell_type": "markdown",
   "metadata": {},
   "source": [
    "##### My implementation of Conway's Game of Life"
   ]
  },
  {
   "cell_type": "code",
   "execution_count": 1,
   "metadata": {},
   "outputs": [],
   "source": [
    "import numpy as np\n",
    "import matplotlib.pyplot as plt\n",
    "from time import sleep\n",
    "from IPython.display import clear_output\n",
    "from utils import underride\n",
    "\n",
    "from scipy.signal import correlate2d"
   ]
  },
  {
   "cell_type": "markdown",
   "metadata": {},
   "source": [
    "### Code obtained from the book and the provided Jupyter notebook"
   ]
  },
  {
   "cell_type": "code",
   "execution_count": 2,
   "metadata": {},
   "outputs": [],
   "source": [
    "\"\"\" Code example from Complexity and Computation, a book about\n",
    "exploring complexity science with Python.  Available free from\n",
    "\n",
    "http://greenteapress.com/complexity\n",
    "\n",
    "Copyright 2016 Allen Downey\n",
    "MIT License: http://opensource.org/licenses/MIT\n",
    "\"\"\"\n",
    "\n",
    "\n",
    "class Cell2D:\n",
    "    \"\"\"Parent class for 2-D cellular automata.\"\"\"\n",
    "\n",
    "    def __init__(self, n, m=None):\n",
    "        \"\"\"Initializes the attributes.\n",
    "\n",
    "        n: number of rows\n",
    "        m: number of columns\n",
    "        \"\"\"\n",
    "        m = n if m is None else m\n",
    "        self.array = np.zeros((n, m), np.uint8)\n",
    "\n",
    "    def add_cells(self, row, col, *strings):\n",
    "        \"\"\"Adds cells at the given location.\n",
    "\n",
    "        row: top row index\n",
    "        col: left col index\n",
    "        strings: list of strings of 0s and 1s\n",
    "        \"\"\"\n",
    "        for i, s in enumerate(strings):\n",
    "            self.array[row+i, col:col+len(s)] = np.array([int(b) for b in s])\n",
    "\n",
    "    def loop(self, iters=1):\n",
    "        \"\"\"Runs the given number of steps.\"\"\"\n",
    "        for i in range(iters):\n",
    "            self.step()\n",
    "\n",
    "    def draw(self, **options):\n",
    "        \"\"\"Draws the array.\n",
    "        \"\"\"\n",
    "        draw_array(self.array, **options)\n",
    "\n",
    "    def animate(self, frames, interval=None, step=None):\n",
    "        \"\"\"Animate the automaton.\n",
    "        \n",
    "        frames: number of frames to draw\n",
    "        interval: time between frames in seconds\n",
    "        iters: number of steps between frames\n",
    "        \"\"\"\n",
    "        if step is None:\n",
    "            step = self.step\n",
    "            \n",
    "        plt.figure()\n",
    "        try:\n",
    "            for i in range(frames-1):\n",
    "                self.draw()\n",
    "                plt.show()\n",
    "                if interval:\n",
    "                    sleep(interval)\n",
    "                step()\n",
    "                clear_output(wait=True)\n",
    "            self.draw()\n",
    "            plt.show()\n",
    "        except KeyboardInterrupt:\n",
    "            pass\n",
    "        \n",
    "\n",
    "def draw_array(array, **options):\n",
    "    \"\"\"Draws the cells.\"\"\"\n",
    "    n, m = array.shape\n",
    "    options = underride(options,\n",
    "                        cmap='Greens',\n",
    "                        alpha=0.7,\n",
    "                        vmin=0, vmax=1, \n",
    "                        interpolation='none', \n",
    "                        origin='upper',\n",
    "                        extent=[0, m, 0, n])\n",
    "\n",
    "    plt.axis([0, m, 0, n])\n",
    "    plt.xticks([])\n",
    "    plt.yticks([])\n",
    "\n",
    "    return plt.imshow(array, **options)"
   ]
  },
  {
   "cell_type": "code",
   "execution_count": 3,
   "metadata": {},
   "outputs": [],
   "source": [
    "class Life(Cell2D):\n",
    "    \"\"\"Implementation of Conway's Game of Life.\"\"\"\n",
    "    kernel = np.array([[1, 1, 1],\n",
    "                       [1,10, 1],\n",
    "                       [1, 1, 1]])\n",
    "\n",
    "    table = np.zeros(20, dtype=np.uint8)\n",
    "    table[[3, 12, 13]] = 1\n",
    "\n",
    "    def step(self):\n",
    "        \"\"\"Executes one time step.\"\"\"\n",
    "        c = correlate2d(self.array, self.kernel, mode='same')\n",
    "        self.array = self.table[c]"
   ]
  },
  {
   "cell_type": "code",
   "execution_count": 4,
   "metadata": {},
   "outputs": [],
   "source": [
    "def make_life(n, m, row, col, *strings):\n",
    "    \"\"\"Makes a Life object.\n",
    "    \n",
    "    n, m: rows and columns of the Life array\n",
    "    row, col: upper left coordinate of the cells to be added\n",
    "    strings: list of strings of '0' and '1'\n",
    "    \"\"\"\n",
    "    life = Life(n, m)\n",
    "    life.add_cells(row, col, *strings)\n",
    "    return life"
   ]
  },
  {
   "cell_type": "markdown",
   "metadata": {},
   "source": [
    "### Random State"
   ]
  },
  {
   "cell_type": "code",
   "execution_count": 5,
   "metadata": {},
   "outputs": [],
   "source": [
    "def make_rand_state_life(n, m):\n",
    "    # Generate a list of random bit string.\n",
    "    init_state = [\"\".join([\"0\" if np.random.random() > 0.5 else \"1\" for _ in range(m)]) for _ in range(n)]\n",
    "\n",
    "    return make_life(n, m, 0, 0, *init_state)"
   ]
  },
  {
   "cell_type": "code",
   "execution_count": 6,
   "metadata": {},
   "outputs": [
    {
     "data": {
      "image/png": "[encoded data removed]",
      "text/plain": [
       "<Figure size 432x288 with 1 Axes>"
      ]
     },
     "metadata": {},
     "output_type": "display_data"
    }
   ],
   "source": [
    "plt.figure(figsize=(10, 5))\n",
    "plt.subplot(1, 2, 1)\n",
    "life = make_rand_state_life(100, 100)\n",
    "life.draw()\n",
    "\n",
    "life.animate(1000)"
   ]
  }
 ],
 "metadata": {
  "kernelspec": {
   "display_name": "physics215",
   "language": "python",
   "name": "physics215"
  },
  "language_info": {
   "codemirror_mode": {
    "name": "ipython",
    "version": 3
   },
   "file_extension": ".py",
   "mimetype": "text/x-python",
   "name": "python",
   "nbconvert_exporter": "python",
   "pygments_lexer": "ipython3",
   "version": "3.8.5"
  }
 },
 "nbformat": 4,
 "nbformat_minor": 4
}
