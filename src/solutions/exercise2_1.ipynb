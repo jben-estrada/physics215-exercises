{
 "cells": [
  {
   "cell_type": "markdown",
   "metadata": {},
   "source": [
    "# Chapter 2 - Exercise 1\n",
    "#### Author: *John Benedick Estrada*\n",
    "---\n",
    "**Exercise:** Launch `chap02.ipynb` and run the code. There are a few\n",
    "short exercises embedded in the notebook that you might want to try."
   ]
  },
  {
   "cell_type": "code",
   "execution_count": 1,
   "metadata": {},
   "outputs": [],
   "source": [
    "%matplotlib inline\n",
    "\n",
    "import matplotlib.pyplot as plt\n",
    "import networkx as nx\n",
    "import numpy as np\n",
    "import seaborn as sns\n",
    "\n",
    "from utils import decorate\n",
    "\n",
    "# I set the random seed so the notebook \n",
    "# produces the same results every time.\n",
    "np.random.seed(17)\n",
    "\n",
    "# TODO: remove this when NetworkX is fixed\n",
    "from warnings import simplefilter\n",
    "import matplotlib.cbook\n",
    "simplefilter(\"ignore\", matplotlib.cbook.mplDeprecation)\n",
    "\n",
    "# Redefining `savefig` so as this notebook will not save figures.\n",
    "def savefig(*args, **kwargs):\n",
    "    return"
   ]
  },
  {
   "cell_type": "markdown",
   "metadata": {},
   "source": [
    "## Directed graph\n",
    "\n",
    "The first example is a directed graph that represents a social network with three nodes."
   ]
  },
  {
   "cell_type": "code",
   "execution_count": 2,
   "metadata": {},
   "outputs": [
    {
     "data": {
      "text/plain": [
       "['Alice', 'Bob', 'Chuck']"
      ]
     },
     "execution_count": 2,
     "metadata": {},
     "output_type": "execute_result"
    }
   ],
   "source": [
    "G = nx.DiGraph()\n",
    "G.add_node('Alice')\n",
    "G.add_node('Bob')\n",
    "G.add_node('Chuck')\n",
    "list(G.nodes())"
   ]
  },
  {
   "cell_type": "markdown",
   "metadata": {},
   "source": [
    "Here's how we add edges between nodes."
   ]
  },
  {
   "cell_type": "code",
   "execution_count": 3,
   "metadata": {},
   "outputs": [
    {
     "data": {
      "text/plain": [
       "[('Alice', 'Bob'), ('Alice', 'Chuck'), ('Bob', 'Alice'), ('Bob', 'Chuck')]"
      ]
     },
     "execution_count": 3,
     "metadata": {},
     "output_type": "execute_result"
    }
   ],
   "source": [
    "G.add_edge('Alice', 'Bob')\n",
    "G.add_edge('Alice', 'Chuck')\n",
    "G.add_edge('Bob', 'Alice')\n",
    "G.add_edge('Bob', 'Chuck')\n",
    "list(G.edges())"
   ]
  },
  {
   "cell_type": "markdown",
   "metadata": {},
   "source": [
    "And here's how to draw the graph."
   ]
  },
  {
   "cell_type": "code",
   "execution_count": null,
   "metadata": {},
   "outputs": [],
   "source": [
    "nx.draw_circular(G,\n",
    "                 node_color='C0',\n",
    "                 node_size=2000, \n",
    "                 with_labels=True)\n",
    "plt.axis('equal')\n",
    "savefig('figs/chap02-1')"
   ]
  },
  {
   "cell_type": "markdown",
   "metadata": {},
   "source": [
    "**Exercise:**  Add another node and a few more edges and draw the graph again."
   ]
  },
  {
   "cell_type": "code",
   "execution_count": null,
   "metadata": {},
   "outputs": [],
   "source": [
    "# SOLUTION\n",
    "\n",
    "G.add_node(\"John\")\n",
    "G.add_edge(\"Alice\", \"John\")\n",
    "G.add_edge(\"Chuck\", \"John\")\n",
    "\n",
    "nx.draw_circular(G,\n",
    "                 node_color='C0',\n",
    "                 node_size=2000, \n",
    "                 with_labels=True)\n",
    "plt.title(\"Exercise solution: Add new node 'John'\")\n",
    "plt.axis('equal')\n",
    "plt.show()"
   ]
  },
  {
   "cell_type": "markdown",
   "metadata": {},
   "source": [
    "## Undirected graph\n",
    "\n",
    "The second example is an undirected graph that represents cities and the driving times between them.\n",
    "\n",
    "`positions` is a dictionary that maps from each city to its coordinates."
   ]
  },
  {
   "cell_type": "code",
   "execution_count": 6,
   "metadata": {},
   "outputs": [
    {
     "data": {
      "text/plain": [
       "(-74, 43)"
      ]
     },
     "execution_count": 6,
     "metadata": {},
     "output_type": "execute_result"
    }
   ],
   "source": [
    "positions = dict(Albany=(-74, 43),\n",
    "                 Boston=(-71, 42),\n",
    "                 NYC=(-74, 41),\n",
    "                 Philly=(-75, 40))\n",
    "\n",
    "positions['Albany']"
   ]
  },
  {
   "cell_type": "markdown",
   "metadata": {},
   "source": [
    "We can use the keys in `pos` to add nodes to the graph."
   ]
  },
  {
   "cell_type": "code",
   "execution_count": 7,
   "metadata": {},
   "outputs": [
    {
     "data": {
      "text/plain": [
       "NodeView(('Albany', 'Boston', 'NYC', 'Philly'))"
      ]
     },
     "execution_count": 7,
     "metadata": {},
     "output_type": "execute_result"
    }
   ],
   "source": [
    "G = nx.Graph()\n",
    "G.add_nodes_from(positions)\n",
    "G.nodes()"
   ]
  },
  {
   "cell_type": "markdown",
   "metadata": {},
   "source": [
    "`drive_times` is a dictionary that maps from pairs of cities to the driving times between them."
   ]
  },
  {
   "cell_type": "code",
   "execution_count": 8,
   "metadata": {},
   "outputs": [],
   "source": [
    "drive_times = {('Albany', 'Boston'): 3,\n",
    "               ('Albany', 'NYC'): 4,\n",
    "               ('Boston', 'NYC'): 4,\n",
    "               ('NYC', 'Philly'): 2}"
   ]
  },
  {
   "cell_type": "markdown",
   "metadata": {},
   "source": [
    "We can use the keys from `drive_times` to add edges to the graph."
   ]
  },
  {
   "cell_type": "code",
   "execution_count": 9,
   "metadata": {},
   "outputs": [
    {
     "data": {
      "text/plain": [
       "EdgeView([('Albany', 'Boston'), ('Albany', 'NYC'), ('Boston', 'NYC'), ('NYC', 'Philly')])"
      ]
     },
     "execution_count": 9,
     "metadata": {},
     "output_type": "execute_result"
    }
   ],
   "source": [
    "G.add_edges_from(drive_times)\n",
    "G.edges()"
   ]
  },
  {
   "cell_type": "markdown",
   "metadata": {},
   "source": [
    "Now we can draw the graph using `positions` to indicate the positions of the nodes, and `drive_times` to label the edges."
   ]
  },
  {
   "cell_type": "code",
   "execution_count": null,
   "metadata": {},
   "outputs": [],
   "source": [
    "nx.draw(G, positions, \n",
    "        node_color='C1', \n",
    "        node_shape='s', \n",
    "        node_size=2500, \n",
    "        with_labels=True)\n",
    "\n",
    "nx.draw_networkx_edge_labels(G, positions, \n",
    "                             edge_labels=drive_times)\n",
    "\n",
    "plt.axis('equal')\n",
    "savefig('figs/chap02-2')"
   ]
  },
  {
   "cell_type": "markdown",
   "metadata": {},
   "source": [
    "**Exercise:**  Add another city and at least one edge."
   ]
  },
  {
   "cell_type": "code",
   "execution_count": null,
   "metadata": {},
   "outputs": [],
   "source": [
    "# SOLUTION:\n",
    "# Add a new city in the `positions` and `drive_times` dict\n",
    "positions[\"Manila\"] = (-70, 40)\n",
    "G.add_node(\"Manila\")\n",
    "G.add_edge(\"Manila\", \"NYC\")\n",
    "drive_times[(\"Manila\", \"NYC\")] = np.inf\n",
    "\n",
    "# Draw the updated graph.\n",
    "nx.draw(G, positions, \n",
    "        node_color='C1', \n",
    "        node_shape='s', \n",
    "        node_size=2500, \n",
    "        with_labels=True)\n",
    "nx.draw_networkx_edge_labels(G, positions, \n",
    "                             edge_labels=drive_times)\n",
    "plt.title(\"Exercise solution: Add a new city ('Manila')\")\n",
    "plt.axis('equal')\n",
    "plt.show()"
   ]
  },
  {
   "cell_type": "markdown",
   "metadata": {},
   "source": [
    "## Complete graph\n",
    "\n",
    "To make a complete graph, we use a generator function that iterates through all pairs of nodes."
   ]
  },
  {
   "cell_type": "code",
   "execution_count": 12,
   "metadata": {},
   "outputs": [],
   "source": [
    "def all_pairs(nodes):\n",
    "    for i, u in enumerate(nodes):\n",
    "        for j, v in enumerate(nodes):\n",
    "            if i < j:\n",
    "                yield u, v"
   ]
  },
  {
   "cell_type": "markdown",
   "metadata": {},
   "source": [
    "`make_complete_graph` makes a `Graph` with the given number of nodes and edges between all pairs of nodes."
   ]
  },
  {
   "cell_type": "code",
   "execution_count": 13,
   "metadata": {},
   "outputs": [],
   "source": [
    "def make_complete_graph(n):\n",
    "    G = nx.Graph()\n",
    "    nodes = range(n)\n",
    "    G.add_nodes_from(nodes)\n",
    "    G.add_edges_from(all_pairs(nodes))\n",
    "    return G"
   ]
  },
  {
   "cell_type": "markdown",
   "metadata": {},
   "source": [
    "Here's a complete graph with 10 nodes:"
   ]
  },
  {
   "cell_type": "code",
   "execution_count": 14,
   "metadata": {},
   "outputs": [
    {
     "data": {
      "text/plain": [
       "10"
      ]
     },
     "execution_count": 14,
     "metadata": {},
     "output_type": "execute_result"
    }
   ],
   "source": [
    "complete = make_complete_graph(10)\n",
    "complete.number_of_nodes()"
   ]
  },
  {
   "cell_type": "markdown",
   "metadata": {},
   "source": [
    "And here's what it looks like."
   ]
  },
  {
   "cell_type": "code",
   "execution_count": null,
   "metadata": {},
   "outputs": [],
   "source": [
    "nx.draw_circular(complete, \n",
    "                 node_color='C2', \n",
    "                 node_size=1000, \n",
    "                 with_labels=True)\n",
    "savefig('figs/chap02-3')"
   ]
  },
  {
   "cell_type": "markdown",
   "metadata": {},
   "source": [
    "The `neighbors` method the neighbors for a given node."
   ]
  },
  {
   "cell_type": "code",
   "execution_count": 16,
   "metadata": {},
   "outputs": [
    {
     "data": {
      "text/plain": [
       "[1, 2, 3, 4, 5, 6, 7, 8, 9]"
      ]
     },
     "execution_count": 16,
     "metadata": {},
     "output_type": "execute_result"
    }
   ],
   "source": [
    "list(complete.neighbors(0))"
   ]
  },
  {
   "cell_type": "markdown",
   "metadata": {},
   "source": [
    "**Exercise:** Make and draw complete directed graph with 5 nodes."
   ]
  },
  {
   "cell_type": "code",
   "execution_count": null,
   "metadata": {},
   "outputs": [],
   "source": [
    "# Solution goes here\n",
    "complete_5_node = make_complete_graph(5)\n",
    "nx.draw_circular(complete_5_node, \n",
    "                 node_color='C2', \n",
    "                 node_size=1000, \n",
    "                 with_labels=True)\n",
    "plt.title(r\"Exercise Solution: Make a complete graph with 5 nodes.\")\n",
    "plt.axis(\"Equal\")\n",
    "plt.show()"
   ]
  },
  {
   "cell_type": "markdown",
   "metadata": {},
   "source": [
    "## Random graphs\n",
    "\n",
    "Next we'll make a random graph where the probability of an edge between each pair of nodes is $p$.\n",
    "\n",
    "The helper function `flip` returns True with probability `p` and False with probability `1-p`"
   ]
  },
  {
   "cell_type": "code",
   "execution_count": 18,
   "metadata": {},
   "outputs": [],
   "source": [
    "def flip(p):\n",
    "    return np.random.random() < p"
   ]
  },
  {
   "cell_type": "markdown",
   "metadata": {},
   "source": [
    "`random_pairs` is a generator function that enumerates all possible pairs of nodes and yields each one with probability `p` "
   ]
  },
  {
   "cell_type": "code",
   "execution_count": 19,
   "metadata": {},
   "outputs": [],
   "source": [
    "def random_pairs(nodes, p):\n",
    "    for edge in all_pairs(nodes):\n",
    "        if flip(p):\n",
    "            yield edge"
   ]
  },
  {
   "cell_type": "markdown",
   "metadata": {},
   "source": [
    "`make_random_graph` makes an ER graph where the probability of an edge between each pair of nodes is `p`."
   ]
  },
  {
   "cell_type": "code",
   "execution_count": 20,
   "metadata": {},
   "outputs": [],
   "source": [
    "def make_random_graph(n, p):\n",
    "    G = nx.Graph()\n",
    "    nodes = range(n)\n",
    "    G.add_nodes_from(nodes)\n",
    "    G.add_edges_from(random_pairs(nodes, p))\n",
    "    return G"
   ]
  },
  {
   "cell_type": "markdown",
   "metadata": {},
   "source": [
    "Here's an example with `n=10` and `p=0.3`"
   ]
  },
  {
   "cell_type": "code",
   "execution_count": 21,
   "metadata": {},
   "outputs": [
    {
     "data": {
      "text/plain": [
       "12"
      ]
     },
     "execution_count": 21,
     "metadata": {},
     "output_type": "execute_result"
    }
   ],
   "source": [
    "np.random.seed(10)\n",
    "\n",
    "random_graph = make_random_graph(10, 0.3)\n",
    "len(random_graph.edges())"
   ]
  },
  {
   "cell_type": "markdown",
   "metadata": {},
   "source": [
    "And here's what it looks like:"
   ]
  },
  {
   "cell_type": "code",
   "execution_count": null,
   "metadata": {},
   "outputs": [],
   "source": [
    "nx.draw_circular(random_graph, \n",
    "                 node_color='C3', \n",
    "                 node_size=1000, \n",
    "                 with_labels=True)\n",
    "savefig('figs/chap02-4')"
   ]
  },
  {
   "cell_type": "markdown",
   "metadata": {},
   "source": [
    "## Connectivity\n",
    "\n",
    "To check whether a graph is connected, we'll start by finding all nodes that can be reached, starting with a given node:"
   ]
  },
  {
   "cell_type": "code",
   "execution_count": 23,
   "metadata": {},
   "outputs": [],
   "source": [
    "def reachable_nodes(G, start):\n",
    "    seen = set()\n",
    "    stack = [start]\n",
    "    while stack:\n",
    "        node = stack.pop()\n",
    "        if node not in seen:\n",
    "            seen.add(node)\n",
    "            stack.extend(G.neighbors(node))\n",
    "    return seen"
   ]
  },
  {
   "cell_type": "markdown",
   "metadata": {},
   "source": [
    "In the complete graph, starting from node 0, we can reach all nodes:"
   ]
  },
  {
   "cell_type": "code",
   "execution_count": 24,
   "metadata": {},
   "outputs": [
    {
     "data": {
      "text/plain": [
       "{0, 1, 2, 3, 4, 5, 6, 7, 8, 9}"
      ]
     },
     "execution_count": 24,
     "metadata": {},
     "output_type": "execute_result"
    }
   ],
   "source": [
    "reachable_nodes(complete, 0)"
   ]
  },
  {
   "cell_type": "markdown",
   "metadata": {},
   "source": [
    "In the random graph we generated, we can also reach all nodes (but that's not always true):"
   ]
  },
  {
   "cell_type": "code",
   "execution_count": 25,
   "metadata": {},
   "outputs": [
    {
     "data": {
      "text/plain": [
       "{0, 1, 2, 3, 4, 5, 6, 7, 8, 9}"
      ]
     },
     "execution_count": 25,
     "metadata": {},
     "output_type": "execute_result"
    }
   ],
   "source": [
    "reachable_nodes(random_graph, 0)"
   ]
  },
  {
   "cell_type": "markdown",
   "metadata": {},
   "source": [
    "We can use `reachable_nodes` to check whether a graph is connected:"
   ]
  },
  {
   "cell_type": "code",
   "execution_count": 26,
   "metadata": {},
   "outputs": [],
   "source": [
    "def is_connected(G):\n",
    "    start = next(iter(G))\n",
    "    reachable = reachable_nodes(G, start)\n",
    "    return len(reachable) == len(G)"
   ]
  },
  {
   "cell_type": "markdown",
   "metadata": {},
   "source": [
    "Again, the complete graph is connected:"
   ]
  },
  {
   "cell_type": "code",
   "execution_count": 27,
   "metadata": {},
   "outputs": [
    {
     "data": {
      "text/plain": [
       "True"
      ]
     },
     "execution_count": 27,
     "metadata": {},
     "output_type": "execute_result"
    }
   ],
   "source": [
    "is_connected(complete)"
   ]
  },
  {
   "cell_type": "markdown",
   "metadata": {},
   "source": [
    "But if we generate a random graph with a low value of `p`, it's not:"
   ]
  },
  {
   "cell_type": "code",
   "execution_count": 28,
   "metadata": {},
   "outputs": [
    {
     "data": {
      "text/plain": [
       "6"
      ]
     },
     "execution_count": 28,
     "metadata": {},
     "output_type": "execute_result"
    }
   ],
   "source": [
    "random_graph = make_random_graph(10, 0.1)\n",
    "len(random_graph.edges())"
   ]
  },
  {
   "cell_type": "code",
   "execution_count": 29,
   "metadata": {},
   "outputs": [
    {
     "data": {
      "text/plain": [
       "False"
      ]
     },
     "execution_count": 29,
     "metadata": {},
     "output_type": "execute_result"
    }
   ],
   "source": [
    "is_connected(random_graph)"
   ]
  },
  {
   "cell_type": "markdown",
   "metadata": {},
   "source": [
    "**Exercise:** What do you think it means for a directed graph to be connected?  Write a function that checks whether a directed graph is connected."
   ]
  },
  {
   "cell_type": "code",
   "execution_count": 30,
   "metadata": {},
   "outputs": [],
   "source": [
    "def directed_is_connected(G):\n",
    "    start = next(iter(G))\n",
    "    reachable = reachable_nodes(G, start)\n",
    "    return len(reachable) == len(G)"
   ]
  },
  {
   "cell_type": "markdown",
   "metadata": {},
   "source": [
    "## Probability of connectivity\n",
    "\n",
    "**NO EXERCISES IN THIS SECTION**\n",
    "\n",
    "So we are skipping this section. Furthermore, this part is quite slow to load because of the \"experiment\" part of this chapter."
   ]
  },
  {
   "cell_type": "markdown",
   "metadata": {},
   "source": [
    "# Exercises\n",
    "---\n",
    "All the exercises in the end of Chapter 2 ar in `exercise2_*.ipynb` (excluding this notebook of course)."
   ]
  }
 ],
 "metadata": {
  "kernelspec": {
   "display_name": "physics215",
   "language": "python",
   "name": "physics215"
  },
  "language_info": {
   "codemirror_mode": {
    "name": "ipython",
    "version": 3
   },
   "file_extension": ".py",
   "mimetype": "text/x-python",
   "name": "python",
   "nbconvert_exporter": "python",
   "pygments_lexer": "ipython3",
   "version": "3.8.5"
  }
 },
 "nbformat": 4,
 "nbformat_minor": 4
}
